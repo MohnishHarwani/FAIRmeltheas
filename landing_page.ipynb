{
 "cells": [
  {
   "cell_type": "markdown",
   "id": "2dbfeb31",
   "metadata": {
    "ExecuteTime": {
     "end_time": "2024-07-25T21:22:48.169250Z",
     "start_time": "2024-07-25T21:22:48.156631Z"
    }
   },
   "source": [
    "# FAIR workflows and data speeds up materials discovery\n",
    "\n",
    "## <i>Mohnish Harwani (1) </i>, <i>Juan Carlos Verduzco (2),</i> <i>Brian H. Lee (2),</i> and <i>Alejandro Strachan (2)</i> <br>\n",
    "\n",
    "### Department of Computer Science (1), Materials Engineering, Purdue University  (2)<br>\n",
    "\n",
    "\n",
    "## Overview\n",
    "\n",
    "In this study, we demonstrate a significant speedup in an optimization task by reusing a published simulation workflow available for online simulations and its associated data repository, where the results of each workflow run are automatically stored. Both the workflow and its data follow FAIR (findable, accessible, interoperable, and reusable) principles using nanoHUB’s infrastructure. The workflow employs molecular dynamics to calculate the melting temperature of multi-principal component alloys. \n",
    "\n",
    "We leveraged all prior data not only to develop an accurate machine learning model to start the sequential optimization but also to optimize the simulation parameters and accelerate convergence. Prior work showed that finding the alloy composition with the highest melting temperature required testing 15 alloy compositions, and establishing the melting temperature for each composition took, on average, 4 simulations. By developing a workflow that utilizes the FAIR data in the nanoHUB database, we reduced the number of simulations per composition to one and found the alloy with the lowest melting temperature testing only two compositions. This second optimization, therefore, shows a speedup of 10x as compared to models that do not access the FAIR databases.\n",
    "\n",
    "\n",
    "## Notebooks\n",
    "\n",
    "### [Active Learning Tool From Paper:][Active Learning Notebook](FinalNotebookV1.ipynb)\n",
    "- Download explored space\n",
    "- Create and train a Random Forest based on training initial set\n",
    "- Use Active Learning paired with Simtool\n",
    "\n",
    "### [Plots, Random Forest Training, Equation Derivation, and Supplemental Material:][Plots and Random Forest Evaluation](FinalNotebookPlots.ipynb)\n",
    "- Create, plot, and derive equations for alloy melting temperature, Tsol temperature, and Tliq temperature\n",
    "- Create and train a Random Forest based on training initial set\n",
    "- Demonstrate increase in performance from the Random Forest across identical alloy spaces"
   ]
  }
 ],
 "metadata": {
  "kernelspec": {
   "display_name": "Python 3.8",
   "language": "python",
   "name": "python3"
  },
  "language_info": {
   "codemirror_mode": {
    "name": "ipython",
    "version": 3
   },
   "file_extension": ".py",
   "mimetype": "text/x-python",
   "name": "python",
   "nbconvert_exporter": "python",
   "pygments_lexer": "ipython3",
   "version": "3.8.10"
  },
  "toc": {
   "base_numbering": 1,
   "nav_menu": {},
   "number_sections": true,
   "sideBar": true,
   "skip_h1_title": false,
   "title_cell": "Table of Contents",
   "title_sidebar": "Contents",
   "toc_cell": false,
   "toc_position": {},
   "toc_section_display": true,
   "toc_window_display": false
  },
  "varInspector": {
   "cols": {
    "lenName": 16,
    "lenType": 16,
    "lenVar": 40
   },
   "kernels_config": {
    "python": {
     "delete_cmd_postfix": "",
     "delete_cmd_prefix": "del ",
     "library": "var_list.py",
     "varRefreshCmd": "print(var_dic_list())"
    },
    "r": {
     "delete_cmd_postfix": ") ",
     "delete_cmd_prefix": "rm(",
     "library": "var_list.r",
     "varRefreshCmd": "cat(var_dic_list()) "
    }
   },
   "types_to_exclude": [
    "module",
    "function",
    "builtin_function_or_method",
    "instance",
    "_Feature"
   ],
   "window_display": false
  }
 },
 "nbformat": 4,
 "nbformat_minor": 5
}
