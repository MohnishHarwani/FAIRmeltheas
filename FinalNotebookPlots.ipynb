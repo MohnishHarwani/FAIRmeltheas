{
 "cells": [
  {
   "cell_type": "markdown",
   "id": "d58f5d1f",
   "metadata": {},
   "source": [
    "# Libraries"
   ]
  },
  {
   "cell_type": "markdown",
   "id": "dfb15123",
   "metadata": {},
   "source": [
    "Importing the libraries necessary."
   ]
  },
  {
   "cell_type": "code",
   "execution_count": 65,
   "id": "ea0b842e",
   "metadata": {
    "ExecuteTime": {
     "end_time": "2024-07-24T02:45:57.299406Z",
     "start_time": "2024-07-24T02:45:57.288122Z"
    }
   },
   "outputs": [],
   "source": [
    "# Libraries\n",
    "from simtool import findInstalledSimToolNotebooks, searchForSimTool\n",
    "from simtool import getSimToolInputs, getSimToolOutputs, Run\n",
    "#meltheas -> tldr; seperate jupyter notebook with existing code\n",
    "MeltHEA = searchForSimTool('meltheas')\n",
    "\n",
    "import json\n",
    "import pandas as pd\n",
    "import re\n",
    "import os\n",
    "import math\n",
    "import numpy as np\n",
    "import matplotlib.pyplot as plt\n",
    "from ipywidgets import widgets, HBox\n",
    "import plotly\n",
    "import plotly.graph_objects as go\n",
    "from plotly.subplots import make_subplots\n",
    "import warnings\n",
    "from datetime import datetime\n",
    "warnings.filterwarnings('ignore')\n",
    "from pathlib import Path\n",
    "\n",
    "import seaborn as sns\n",
    "\n",
    "import torch\n",
    "from torch import nn\n",
    "import torch.nn.functional as F\n",
    "import torch.optim as optim\n",
    "from torch.utils.data import TensorDataset, DataLoader\n",
    "\n",
    "import nanohubremote as nr\n",
    "from scipy.stats import norm\n",
    "\n",
    "\n",
    "from sklearn.model_selection import train_test_split\n",
    "from sklearn.ensemble import RandomForestRegressor\n",
    "from sklearn.metrics import mean_squared_error\n",
    "from sklearn.manifold import TSNE, MDS, LocallyLinearEmbedding, Isomap, SpectralEmbedding"
   ]
  },
  {
   "cell_type": "markdown",
   "id": "94194bbe",
   "metadata": {},
   "source": [
    "# Querying Data"
   ]
  },
  {
   "cell_type": "markdown",
   "id": "6526a000",
   "metadata": {},
   "source": [
    "Interacting with the nanoHub API to query relevant data from the MELTHEAS simtool."
   ]
  },
  {
   "cell_type": "code",
   "execution_count": 66,
   "id": "d4953c8c",
   "metadata": {
    "ExecuteTime": {
     "end_time": "2024-07-24T02:46:04.291210Z",
     "start_time": "2024-07-24T02:45:57.659687Z"
    }
   },
   "outputs": [],
   "source": [
    "# CREDENTIALS\n",
    "\n",
    "auth_data = { 'grant_type' : 'tool' }\n",
    "with open(os.environ[\"SESSIONDIR\"]+\"/resources\") as file:\n",
    "    lines = [line.split(\" \", 1) for line in file.readlines()]\n",
    "    properties = {line[0].strip(): line[1].strip() for line in lines if len(line)==2}\n",
    "    auth_data[\"sessiontoken\"] = properties[\"session_token\"]\n",
    "    auth_data[\"sessionnum\"] = properties[\"sessionid\"]\n",
    "    \n",
    "session = nr.Tools(auth_data)\n",
    "\n",
    "#TOOL NAME\n",
    "tool = 'meltheas' \n",
    "\n",
    "# QUERY FOR INPUTS AND OUTPUTS\n",
    "req_json = session.requestPost('results/dbexplorer/tool_detail?simtool=true', data={'tool': tool})\n",
    "req_json = req_json.json()\n",
    "parameters = req_json['results']\n",
    "inputs = list(parameters[0][tool]['input'].keys())\n",
    "outputs = list(parameters[0][tool]['output'].keys())\n",
    "\n",
    "\n",
    "# QUERY EVERYTHING FROM THE DATABASE\n",
    "search = {\n",
    "    'tool':tool,\n",
    "    'filters':json.dumps([\n",
    "        {'field':'input.Tsolid','operation':'>=','value':'2'},     # Filters included to query [Everything] in the cached database\n",
    "        {'field':'input.composition1','operation':'<=','value':'0.5'},\n",
    "        {'field':'input.composition2','operation':'<=','value':'0.5'},\n",
    "        {'field':'input.composition3','operation':'<=','value':'0.5'},\n",
    "        {'field':'input.composition4','operation':'<=','value':'0.5'},\n",
    "        {'field':'input.composition5','operation':'<=','value':'0.5'},        \n",
    "    ]),\n",
    "    'results':json.dumps(['input.composition1','input.composition2','input.composition3','input.composition4','input.composition5',\n",
    "                          'input.Tsolid', 'input.Tliquid',\n",
    "                          'output.Coexistence', 'output.Converged', 'output.melting_temperature',\n",
    "                          'output.melting_temperature_ci', 'output.fraction_solid', 'output.fraction_liquid', 'output.counts_array',]),    # Selected Parameters (Inputs/Outputs) that will be requested from the query\n",
    "    'limit':0,    \n",
    "    'revision':0,\n",
    " }\n",
    "\n",
    "req_json = session.requestPost('results/dbexplorer/search?simtool=true', data=search, timeout=30)\n",
    "results = req_json.json()\n",
    "\n",
    "#RESET INDEX AND DROP NA VALUES\n",
    "complete_dataframe = pd.DataFrame(results['results']).dropna()\n",
    "complete_dataframe = complete_dataframe.reset_index(drop=True)     "
   ]
  },
  {
   "cell_type": "code",
   "execution_count": 64,
   "id": "f390d741",
   "metadata": {
    "ExecuteTime": {
     "end_time": "2024-07-24T02:45:56.916827Z",
     "start_time": "2024-07-24T02:45:56.413935Z"
    }
   },
   "outputs": [],
   "source": [
    "#RENAME COLUMNS BASED ON ELEMENT NAME\n",
    "columns = {'input.composition1': 'Cr', 'input.composition2': 'Co', 'input.composition3': 'Cu', 'input.composition4': 'Fe', 'input.composition5': 'Ni'}\n",
    "complete_dataframe.rename(columns = columns, inplace = True)\n",
    "final_df = complete_dataframe.copy()\n",
    "\n",
    "#USE ONLY DATA WITH CONVERGED AND COEXISTED SIMULATIONS\n",
    "complete_dataframe = complete_dataframe.loc[(complete_dataframe['output.Coexistence'] == 1) & (complete_dataframe['output.Converged'] == 1)]\n",
    "\n",
    "#DROP DUPLICATES, CONTAINING UNIQUE VALUES FOR EACH COMPOSITION\n",
    "complete_dataframe = complete_dataframe.drop_duplicates(subset=['Cr', 'Co', 'Cu', 'Fe', 'Ni'])\n",
    "\n",
    "#LIST OF DATES FOR EACH COMPOSITION RAN\n",
    "df = pd.read_csv('cleaned_list.txt', sep=' ', header=None)\n",
    "df[8] = [x.replace(\"_\", \"/\") for x in df[8]]\n",
    "runs_file = complete_dataframe.copy()"
   ]
  },
  {
   "cell_type": "code",
   "execution_count": 7,
   "id": "6d17321b",
   "metadata": {
    "ExecuteTime": {
     "end_time": "2024-07-24T02:06:58.997241Z",
     "start_time": "2024-07-24T02:06:58.814010Z"
    }
   },
   "outputs": [],
   "source": [
    "#ADD MONTH, DAY, YEAR TO EACH VALUE\n",
    "comparison = runs_file[runs_file['squid'].isin(df[8])]\n",
    "df = df.rename({8 : 'squid'}, axis = 1)\n",
    "merged_df = pd.merge(comparison, df[[5, 6, 7, 'squid']], left_on='squid', right_on='squid', how='left')\n",
    "\n",
    "# Drop the 'squid' column from the merged DataFrame as it's no longer needed\n",
    "merged_df.drop('squid', axis=1, inplace=True)\n",
    "merged_df.drop('date', axis=1, inplace=True)\n",
    "\n",
    "# Rename the columns 5, 6, 7, to month, day, year\n",
    "merged_df.rename(columns={5: 'Month', 6: 'Day', 7: 'Year'}, inplace=True)\n",
    "\n",
    "#Drop duplicates\n",
    "merged_df = merged_df.drop_duplicates(subset=['Cr', 'Co', 'Cu', 'Fe', 'Ni'])"
   ]
  },
  {
   "cell_type": "code",
   "execution_count": 8,
   "id": "64d2ee1c",
   "metadata": {
    "ExecuteTime": {
     "end_time": "2024-07-24T02:06:59.153748Z",
     "start_time": "2024-07-24T02:06:59.147994Z"
    }
   },
   "outputs": [],
   "source": [
    "def filter_dates(df, month, day, year):\n",
    "    target_date = datetime(year, month, day)\n",
    "    df['Date'] = pd.to_datetime(df[['Year', 'Month', 'Day']])\n",
    "    filtered_df = df[df['Date'] <= target_date]\n",
    "    return filtered_df\n",
    "def convert_abbr_to_num(df, column_name):\n",
    "    month_mapping = {'Jan':  1, 'Feb':  2, 'Mar':  3, 'Apr':  4, 'May':  5, 'Jun':  6,\n",
    "                     'Jul':  7, 'Aug':  8, 'Sep':  9, 'Oct':  10, 'Nov':  11, 'Dec':  12}\n",
    "    df[column_name] = df[column_name].apply(lambda x: month_mapping.get(x, x))\n",
    "    \n",
    "    return df"
   ]
  },
  {
   "cell_type": "code",
   "execution_count": 9,
   "id": "bd97a8bd",
   "metadata": {
    "ExecuteTime": {
     "end_time": "2024-07-24T02:06:59.317075Z",
     "start_time": "2024-07-24T02:06:59.306091Z"
    }
   },
   "outputs": [],
   "source": [
    "#RENAME AND FILTER BY DATE\n",
    "prior_to_2022_data = convert_abbr_to_num(merged_df, 'Month')\n",
    "prior_to_2022_data = filter_dates(prior_to_2022_data, 1, 1, 2022)\n",
    "prior_to_2022_data = prior_to_2022_data.reset_index()"
   ]
  },
  {
   "cell_type": "code",
   "execution_count": 10,
   "id": "bf19bbc6",
   "metadata": {
    "ExecuteTime": {
     "end_time": "2024-07-24T02:06:59.488412Z",
     "start_time": "2024-07-24T02:06:59.483616Z"
    }
   },
   "outputs": [],
   "source": [
    "#SUBSET RELEVANT COLUMNS\n",
    "columns = ['Cr', 'Co', 'Cu', 'Fe', 'Ni', 'input.Tsolid', 'input.Tliquid', 'output.melting_temperature']\n",
    "known = prior_to_2022_data[columns].copy()"
   ]
  },
  {
   "cell_type": "code",
   "execution_count": 11,
   "id": "17724c03",
   "metadata": {
    "ExecuteTime": {
     "end_time": "2024-07-24T02:06:59.680490Z",
     "start_time": "2024-07-24T02:06:59.657730Z"
    }
   },
   "outputs": [
    {
     "data": {
      "text/html": [
       "<div>\n",
       "<style scoped>\n",
       "    .dataframe tbody tr th:only-of-type {\n",
       "        vertical-align: middle;\n",
       "    }\n",
       "\n",
       "    .dataframe tbody tr th {\n",
       "        vertical-align: top;\n",
       "    }\n",
       "\n",
       "    .dataframe thead th {\n",
       "        text-align: right;\n",
       "    }\n",
       "</style>\n",
       "<table border=\"1\" class=\"dataframe\">\n",
       "  <thead>\n",
       "    <tr style=\"text-align: right;\">\n",
       "      <th></th>\n",
       "      <th>Cr</th>\n",
       "      <th>Co</th>\n",
       "      <th>Cu</th>\n",
       "      <th>Fe</th>\n",
       "      <th>Ni</th>\n",
       "      <th>input.Tsolid</th>\n",
       "      <th>input.Tliquid</th>\n",
       "      <th>output.melting_temperature</th>\n",
       "    </tr>\n",
       "  </thead>\n",
       "  <tbody>\n",
       "    <tr>\n",
       "      <th>0</th>\n",
       "      <td>0.10</td>\n",
       "      <td>0.0</td>\n",
       "      <td>0.0</td>\n",
       "      <td>0.50</td>\n",
       "      <td>0.40</td>\n",
       "      <td>1591.437851</td>\n",
       "      <td>3182.875703</td>\n",
       "      <td>2460.416126</td>\n",
       "    </tr>\n",
       "    <tr>\n",
       "      <th>1</th>\n",
       "      <td>0.20</td>\n",
       "      <td>0.0</td>\n",
       "      <td>0.4</td>\n",
       "      <td>0.20</td>\n",
       "      <td>0.20</td>\n",
       "      <td>1207.103589</td>\n",
       "      <td>2414.207177</td>\n",
       "      <td>1846.231777</td>\n",
       "    </tr>\n",
       "    <tr>\n",
       "      <th>2</th>\n",
       "      <td>0.10</td>\n",
       "      <td>0.4</td>\n",
       "      <td>0.0</td>\n",
       "      <td>0.40</td>\n",
       "      <td>0.10</td>\n",
       "      <td>1517.457703</td>\n",
       "      <td>3034.915406</td>\n",
       "      <td>2389.329413</td>\n",
       "    </tr>\n",
       "    <tr>\n",
       "      <th>3</th>\n",
       "      <td>0.20</td>\n",
       "      <td>0.2</td>\n",
       "      <td>0.4</td>\n",
       "      <td>0.10</td>\n",
       "      <td>0.10</td>\n",
       "      <td>1208.618834</td>\n",
       "      <td>2417.237668</td>\n",
       "      <td>1798.395653</td>\n",
       "    </tr>\n",
       "    <tr>\n",
       "      <th>4</th>\n",
       "      <td>0.33</td>\n",
       "      <td>0.0</td>\n",
       "      <td>0.0</td>\n",
       "      <td>0.33</td>\n",
       "      <td>0.34</td>\n",
       "      <td>1428.412500</td>\n",
       "      <td>2856.825000</td>\n",
       "      <td>2295.532645</td>\n",
       "    </tr>\n",
       "    <tr>\n",
       "      <th>...</th>\n",
       "      <td>...</td>\n",
       "      <td>...</td>\n",
       "      <td>...</td>\n",
       "      <td>...</td>\n",
       "      <td>...</td>\n",
       "      <td>...</td>\n",
       "      <td>...</td>\n",
       "      <td>...</td>\n",
       "    </tr>\n",
       "    <tr>\n",
       "      <th>264</th>\n",
       "      <td>0.30</td>\n",
       "      <td>0.4</td>\n",
       "      <td>0.1</td>\n",
       "      <td>0.20</td>\n",
       "      <td>0.00</td>\n",
       "      <td>1361.212076</td>\n",
       "      <td>2722.424153</td>\n",
       "      <td>2115.888798</td>\n",
       "    </tr>\n",
       "    <tr>\n",
       "      <th>265</th>\n",
       "      <td>0.30</td>\n",
       "      <td>0.4</td>\n",
       "      <td>0.1</td>\n",
       "      <td>0.00</td>\n",
       "      <td>0.20</td>\n",
       "      <td>1336.748640</td>\n",
       "      <td>2673.497280</td>\n",
       "      <td>1981.905057</td>\n",
       "    </tr>\n",
       "    <tr>\n",
       "      <th>266</th>\n",
       "      <td>0.30</td>\n",
       "      <td>0.4</td>\n",
       "      <td>0.0</td>\n",
       "      <td>0.10</td>\n",
       "      <td>0.20</td>\n",
       "      <td>1445.883480</td>\n",
       "      <td>2891.766961</td>\n",
       "      <td>2140.598680</td>\n",
       "    </tr>\n",
       "    <tr>\n",
       "      <th>267</th>\n",
       "      <td>0.30</td>\n",
       "      <td>0.4</td>\n",
       "      <td>0.0</td>\n",
       "      <td>0.00</td>\n",
       "      <td>0.30</td>\n",
       "      <td>1408.610080</td>\n",
       "      <td>2817.220160</td>\n",
       "      <td>2102.176084</td>\n",
       "    </tr>\n",
       "    <tr>\n",
       "      <th>268</th>\n",
       "      <td>0.20</td>\n",
       "      <td>0.4</td>\n",
       "      <td>0.4</td>\n",
       "      <td>0.00</td>\n",
       "      <td>0.00</td>\n",
       "      <td>1123.042818</td>\n",
       "      <td>2246.085636</td>\n",
       "      <td>1724.945628</td>\n",
       "    </tr>\n",
       "  </tbody>\n",
       "</table>\n",
       "<p>269 rows × 8 columns</p>\n",
       "</div>"
      ],
      "text/plain": [
       "       Cr   Co   Cu    Fe    Ni  input.Tsolid  input.Tliquid  \\\n",
       "0    0.10  0.0  0.0  0.50  0.40   1591.437851    3182.875703   \n",
       "1    0.20  0.0  0.4  0.20  0.20   1207.103589    2414.207177   \n",
       "2    0.10  0.4  0.0  0.40  0.10   1517.457703    3034.915406   \n",
       "3    0.20  0.2  0.4  0.10  0.10   1208.618834    2417.237668   \n",
       "4    0.33  0.0  0.0  0.33  0.34   1428.412500    2856.825000   \n",
       "..    ...  ...  ...   ...   ...           ...            ...   \n",
       "264  0.30  0.4  0.1  0.20  0.00   1361.212076    2722.424153   \n",
       "265  0.30  0.4  0.1  0.00  0.20   1336.748640    2673.497280   \n",
       "266  0.30  0.4  0.0  0.10  0.20   1445.883480    2891.766961   \n",
       "267  0.30  0.4  0.0  0.00  0.30   1408.610080    2817.220160   \n",
       "268  0.20  0.4  0.4  0.00  0.00   1123.042818    2246.085636   \n",
       "\n",
       "     output.melting_temperature  \n",
       "0                   2460.416126  \n",
       "1                   1846.231777  \n",
       "2                   2389.329413  \n",
       "3                   1798.395653  \n",
       "4                   2295.532645  \n",
       "..                          ...  \n",
       "264                 2115.888798  \n",
       "265                 1981.905057  \n",
       "266                 2140.598680  \n",
       "267                 2102.176084  \n",
       "268                 1724.945628  \n",
       "\n",
       "[269 rows x 8 columns]"
      ]
     },
     "execution_count": 11,
     "metadata": {},
     "output_type": "execute_result"
    }
   ],
   "source": [
    "display(known)"
   ]
  },
  {
   "cell_type": "code",
   "execution_count": 12,
   "id": "79ecfd4e",
   "metadata": {
    "ExecuteTime": {
     "end_time": "2024-07-24T02:06:59.855228Z",
     "start_time": "2024-07-24T02:06:59.851974Z"
    }
   },
   "outputs": [],
   "source": [
    "sample = ['Cr', 'Co', 'Cu', 'Fe', 'Ni']"
   ]
  },
  {
   "cell_type": "code",
   "execution_count": 13,
   "id": "17ee06e3",
   "metadata": {
    "ExecuteTime": {
     "end_time": "2024-07-24T02:07:00.033426Z",
     "start_time": "2024-07-24T02:07:00.023057Z"
    }
   },
   "outputs": [],
   "source": [
    "#RULE OF MIXTURES FEATURE CALCULATION\n",
    "\n",
    "data = {\n",
    "  \"Cr\": [2.790000e+02, 1.400000e+00, 1.270000e-07, 4.900000e-06, 1.120000e+03, 2.944000e+03, 5.199610e+01, 2.100000e-01, 7.140000e+03, 1.660000e+00, 2.180000e+03],\n",
    "  \"Co\": [2.090000e+02, 1.350000e+00, 6.000000e-08, 1.300000e-05, 7.000000e+02, 3.200000e+03, 5.893319e+01, 3.100000e-01, 8.900000e+03, 1.880000e+00, 1.768000e+03],\n",
    "  \"Cu\": [1.300000e+02, 1.350000e+00, 1.720000e-08, 1.650000e-05, 8.740000e+02, 3.200000e+03, 6.354600e+01, 3.400000e-01, 8.920000e+03, 1.900000e+00, 1.357770e+03],\n",
    "  \"Fe\": [2.110000e+02, 1.400000e+00, 1.000000e-07, 1.180000e-05, 4.900000e+02, 3.134000e+03, 5.584500e+01, 2.900000e-01, 7.874000e+03, 1.830000e+00, 1.811000e+03],\n",
    "  \"Ni\": [2.000000e+02, 1.350000e+00, 7.200000e-08, 1.340000e-05, 7.000000e+02, 3.186000e+03, 5.869340e+01, 3.100000e-01, 8.908000e+03, 1.910000e+00, 1.728000e+03]\n",
    "}\n",
    "\n",
    "index = ['youngs_modulus', 'atomic_radius', 'electrical_resistivity', 'CTE', 'hardness', 'boiling_point', 'atomic_mass', 'poissons_ratio', 'density_of_solid', 'en_gosh', 'melting_point']\n",
    "\n",
    "c_df = pd.DataFrame(data, index=index)\n",
    "\n",
    "actual_qued_values = ['youngs_modulus', 'atomic_radius', 'electrical_resistivity','CTE','hardness','boiling_point',\n",
    "                         'atomic_mass','poissons_ratio','density_of_solid','en_gosh','melting_point']\n",
    "\n",
    "\n",
    "#Apply Rule of Mixtures\n",
    "def rule_mixtures(df2,df,sample): \n",
    "    #Creats column of first rule mixture descriptors to concatenate to\n",
    "    cr = 0\n",
    "    for comps in sample:\n",
    "        cr = cr+df2[comps]*df[comps][0]\n",
    "    cr = cr.to_frame()\n",
    "\n",
    "    #Concatenate rest of compositions with rule of mixtures applied\n",
    "    for x in range(1,len(actual_qued_values)):\n",
    "        cf = 0\n",
    "        for comps in sample:\n",
    "            cf = cf + df2[comps]*df[comps][x]\n",
    "        cf.to_frame()\n",
    "        cr = pd.concat([cr,cf], axis=1)\n",
    "\n",
    "    #Renames columns to descriptors\n",
    "    cr.columns = actual_qued_values\n",
    "    return cr"
   ]
  },
  {
   "cell_type": "code",
   "execution_count": 14,
   "id": "8083f559",
   "metadata": {
    "ExecuteTime": {
     "end_time": "2024-07-24T02:07:00.246093Z",
     "start_time": "2024-07-24T02:07:00.209981Z"
    }
   },
   "outputs": [],
   "source": [
    "#ADD FEATURES\n",
    "kn = rule_mixtures(known, c_df, sample)\n",
    "known = pd.concat([known, kn], axis=1)"
   ]
  },
  {
   "cell_type": "code",
   "execution_count": 15,
   "id": "3ba690ae",
   "metadata": {
    "ExecuteTime": {
     "end_time": "2024-07-24T02:07:00.446959Z",
     "start_time": "2024-07-24T02:07:00.440135Z"
    }
   },
   "outputs": [],
   "source": [
    "#REARRANGE COLUMNS\n",
    "column_to_move = known.pop('input.Tsolid')\n",
    "col2_to_move = known.pop('input.Tliquid')\n",
    "col3_to_move = known.pop('output.melting_temperature')\n",
    "known['input.Tsolid'] = column_to_move\n",
    "known['input.Tliquid'] = col2_to_move\n",
    "known['output.melting_temperature'] = col3_to_move"
   ]
  },
  {
   "cell_type": "code",
   "execution_count": 16,
   "id": "1772a912",
   "metadata": {
    "ExecuteTime": {
     "end_time": "2024-07-24T02:07:00.674425Z",
     "start_time": "2024-07-24T02:07:00.639766Z"
    }
   },
   "outputs": [
    {
     "data": {
      "text/html": [
       "<div>\n",
       "<style scoped>\n",
       "    .dataframe tbody tr th:only-of-type {\n",
       "        vertical-align: middle;\n",
       "    }\n",
       "\n",
       "    .dataframe tbody tr th {\n",
       "        vertical-align: top;\n",
       "    }\n",
       "\n",
       "    .dataframe thead th {\n",
       "        text-align: right;\n",
       "    }\n",
       "</style>\n",
       "<table border=\"1\" class=\"dataframe\">\n",
       "  <thead>\n",
       "    <tr style=\"text-align: right;\">\n",
       "      <th></th>\n",
       "      <th>Cr</th>\n",
       "      <th>Co</th>\n",
       "      <th>Cu</th>\n",
       "      <th>Fe</th>\n",
       "      <th>Ni</th>\n",
       "      <th>youngs_modulus</th>\n",
       "      <th>atomic_radius</th>\n",
       "      <th>electrical_resistivity</th>\n",
       "      <th>CTE</th>\n",
       "      <th>hardness</th>\n",
       "      <th>boiling_point</th>\n",
       "      <th>atomic_mass</th>\n",
       "      <th>poissons_ratio</th>\n",
       "      <th>density_of_solid</th>\n",
       "      <th>en_gosh</th>\n",
       "      <th>melting_point</th>\n",
       "      <th>input.Tsolid</th>\n",
       "      <th>input.Tliquid</th>\n",
       "      <th>output.melting_temperature</th>\n",
       "    </tr>\n",
       "  </thead>\n",
       "  <tbody>\n",
       "    <tr>\n",
       "      <th>0</th>\n",
       "      <td>0.10</td>\n",
       "      <td>0.0</td>\n",
       "      <td>0.0</td>\n",
       "      <td>0.50</td>\n",
       "      <td>0.40</td>\n",
       "      <td>213.4</td>\n",
       "      <td>1.380</td>\n",
       "      <td>9.150000e-08</td>\n",
       "      <td>0.000012</td>\n",
       "      <td>637.0</td>\n",
       "      <td>3135.80</td>\n",
       "      <td>56.599470</td>\n",
       "      <td>0.2900</td>\n",
       "      <td>8214.20</td>\n",
       "      <td>1.8450</td>\n",
       "      <td>1814.700</td>\n",
       "      <td>1591.437851</td>\n",
       "      <td>3182.875703</td>\n",
       "      <td>2460.416126</td>\n",
       "    </tr>\n",
       "    <tr>\n",
       "      <th>1</th>\n",
       "      <td>0.20</td>\n",
       "      <td>0.0</td>\n",
       "      <td>0.4</td>\n",
       "      <td>0.20</td>\n",
       "      <td>0.20</td>\n",
       "      <td>190.0</td>\n",
       "      <td>1.370</td>\n",
       "      <td>6.668000e-08</td>\n",
       "      <td>0.000013</td>\n",
       "      <td>811.6</td>\n",
       "      <td>3132.80</td>\n",
       "      <td>58.725300</td>\n",
       "      <td>0.2980</td>\n",
       "      <td>8352.40</td>\n",
       "      <td>1.8400</td>\n",
       "      <td>1686.908</td>\n",
       "      <td>1207.103589</td>\n",
       "      <td>2414.207177</td>\n",
       "      <td>1846.231777</td>\n",
       "    </tr>\n",
       "    <tr>\n",
       "      <th>2</th>\n",
       "      <td>0.10</td>\n",
       "      <td>0.4</td>\n",
       "      <td>0.0</td>\n",
       "      <td>0.40</td>\n",
       "      <td>0.10</td>\n",
       "      <td>215.9</td>\n",
       "      <td>1.375</td>\n",
       "      <td>8.390000e-08</td>\n",
       "      <td>0.000012</td>\n",
       "      <td>658.0</td>\n",
       "      <td>3146.60</td>\n",
       "      <td>56.980226</td>\n",
       "      <td>0.2920</td>\n",
       "      <td>8314.40</td>\n",
       "      <td>1.8410</td>\n",
       "      <td>1822.400</td>\n",
       "      <td>1517.457703</td>\n",
       "      <td>3034.915406</td>\n",
       "      <td>2389.329413</td>\n",
       "    </tr>\n",
       "    <tr>\n",
       "      <th>3</th>\n",
       "      <td>0.20</td>\n",
       "      <td>0.2</td>\n",
       "      <td>0.4</td>\n",
       "      <td>0.10</td>\n",
       "      <td>0.10</td>\n",
       "      <td>190.7</td>\n",
       "      <td>1.365</td>\n",
       "      <td>6.148000e-08</td>\n",
       "      <td>0.000013</td>\n",
       "      <td>832.6</td>\n",
       "      <td>3140.80</td>\n",
       "      <td>59.058098</td>\n",
       "      <td>0.3000</td>\n",
       "      <td>8454.20</td>\n",
       "      <td>1.8420</td>\n",
       "      <td>1686.608</td>\n",
       "      <td>1208.618834</td>\n",
       "      <td>2417.237668</td>\n",
       "      <td>1798.395653</td>\n",
       "    </tr>\n",
       "    <tr>\n",
       "      <th>4</th>\n",
       "      <td>0.33</td>\n",
       "      <td>0.0</td>\n",
       "      <td>0.0</td>\n",
       "      <td>0.33</td>\n",
       "      <td>0.34</td>\n",
       "      <td>229.7</td>\n",
       "      <td>1.383</td>\n",
       "      <td>9.939000e-08</td>\n",
       "      <td>0.000010</td>\n",
       "      <td>769.3</td>\n",
       "      <td>3088.98</td>\n",
       "      <td>55.543319</td>\n",
       "      <td>0.2704</td>\n",
       "      <td>7983.34</td>\n",
       "      <td>1.8011</td>\n",
       "      <td>1904.550</td>\n",
       "      <td>1428.412500</td>\n",
       "      <td>2856.825000</td>\n",
       "      <td>2295.532645</td>\n",
       "    </tr>\n",
       "    <tr>\n",
       "      <th>...</th>\n",
       "      <td>...</td>\n",
       "      <td>...</td>\n",
       "      <td>...</td>\n",
       "      <td>...</td>\n",
       "      <td>...</td>\n",
       "      <td>...</td>\n",
       "      <td>...</td>\n",
       "      <td>...</td>\n",
       "      <td>...</td>\n",
       "      <td>...</td>\n",
       "      <td>...</td>\n",
       "      <td>...</td>\n",
       "      <td>...</td>\n",
       "      <td>...</td>\n",
       "      <td>...</td>\n",
       "      <td>...</td>\n",
       "      <td>...</td>\n",
       "      <td>...</td>\n",
       "      <td>...</td>\n",
       "    </tr>\n",
       "    <tr>\n",
       "      <th>264</th>\n",
       "      <td>0.30</td>\n",
       "      <td>0.4</td>\n",
       "      <td>0.1</td>\n",
       "      <td>0.20</td>\n",
       "      <td>0.00</td>\n",
       "      <td>222.5</td>\n",
       "      <td>1.375</td>\n",
       "      <td>8.382000e-08</td>\n",
       "      <td>0.000011</td>\n",
       "      <td>801.4</td>\n",
       "      <td>3110.00</td>\n",
       "      <td>56.695706</td>\n",
       "      <td>0.2790</td>\n",
       "      <td>8168.80</td>\n",
       "      <td>1.8060</td>\n",
       "      <td>1859.177</td>\n",
       "      <td>1361.212076</td>\n",
       "      <td>2722.424153</td>\n",
       "      <td>2115.888798</td>\n",
       "    </tr>\n",
       "    <tr>\n",
       "      <th>265</th>\n",
       "      <td>0.30</td>\n",
       "      <td>0.4</td>\n",
       "      <td>0.1</td>\n",
       "      <td>0.00</td>\n",
       "      <td>0.20</td>\n",
       "      <td>220.3</td>\n",
       "      <td>1.365</td>\n",
       "      <td>7.822000e-08</td>\n",
       "      <td>0.000011</td>\n",
       "      <td>843.4</td>\n",
       "      <td>3120.40</td>\n",
       "      <td>57.265386</td>\n",
       "      <td>0.2830</td>\n",
       "      <td>8375.60</td>\n",
       "      <td>1.8220</td>\n",
       "      <td>1842.577</td>\n",
       "      <td>1336.748640</td>\n",
       "      <td>2673.497280</td>\n",
       "      <td>1981.905057</td>\n",
       "    </tr>\n",
       "    <tr>\n",
       "      <th>266</th>\n",
       "      <td>0.30</td>\n",
       "      <td>0.4</td>\n",
       "      <td>0.0</td>\n",
       "      <td>0.10</td>\n",
       "      <td>0.20</td>\n",
       "      <td>228.4</td>\n",
       "      <td>1.370</td>\n",
       "      <td>8.650000e-08</td>\n",
       "      <td>0.000011</td>\n",
       "      <td>805.0</td>\n",
       "      <td>3113.80</td>\n",
       "      <td>56.495286</td>\n",
       "      <td>0.2780</td>\n",
       "      <td>8271.00</td>\n",
       "      <td>1.8150</td>\n",
       "      <td>1887.900</td>\n",
       "      <td>1445.883480</td>\n",
       "      <td>2891.766961</td>\n",
       "      <td>2140.598680</td>\n",
       "    </tr>\n",
       "    <tr>\n",
       "      <th>267</th>\n",
       "      <td>0.30</td>\n",
       "      <td>0.4</td>\n",
       "      <td>0.0</td>\n",
       "      <td>0.00</td>\n",
       "      <td>0.30</td>\n",
       "      <td>227.3</td>\n",
       "      <td>1.365</td>\n",
       "      <td>8.370000e-08</td>\n",
       "      <td>0.000011</td>\n",
       "      <td>826.0</td>\n",
       "      <td>3119.00</td>\n",
       "      <td>56.780126</td>\n",
       "      <td>0.2800</td>\n",
       "      <td>8374.40</td>\n",
       "      <td>1.8230</td>\n",
       "      <td>1879.600</td>\n",
       "      <td>1408.610080</td>\n",
       "      <td>2817.220160</td>\n",
       "      <td>2102.176084</td>\n",
       "    </tr>\n",
       "    <tr>\n",
       "      <th>268</th>\n",
       "      <td>0.20</td>\n",
       "      <td>0.4</td>\n",
       "      <td>0.4</td>\n",
       "      <td>0.00</td>\n",
       "      <td>0.00</td>\n",
       "      <td>191.4</td>\n",
       "      <td>1.360</td>\n",
       "      <td>5.628000e-08</td>\n",
       "      <td>0.000013</td>\n",
       "      <td>853.6</td>\n",
       "      <td>3148.80</td>\n",
       "      <td>59.390896</td>\n",
       "      <td>0.3020</td>\n",
       "      <td>8556.00</td>\n",
       "      <td>1.8440</td>\n",
       "      <td>1686.308</td>\n",
       "      <td>1123.042818</td>\n",
       "      <td>2246.085636</td>\n",
       "      <td>1724.945628</td>\n",
       "    </tr>\n",
       "  </tbody>\n",
       "</table>\n",
       "<p>269 rows × 19 columns</p>\n",
       "</div>"
      ],
      "text/plain": [
       "       Cr   Co   Cu    Fe    Ni  youngs_modulus  atomic_radius  \\\n",
       "0    0.10  0.0  0.0  0.50  0.40           213.4          1.380   \n",
       "1    0.20  0.0  0.4  0.20  0.20           190.0          1.370   \n",
       "2    0.10  0.4  0.0  0.40  0.10           215.9          1.375   \n",
       "3    0.20  0.2  0.4  0.10  0.10           190.7          1.365   \n",
       "4    0.33  0.0  0.0  0.33  0.34           229.7          1.383   \n",
       "..    ...  ...  ...   ...   ...             ...            ...   \n",
       "264  0.30  0.4  0.1  0.20  0.00           222.5          1.375   \n",
       "265  0.30  0.4  0.1  0.00  0.20           220.3          1.365   \n",
       "266  0.30  0.4  0.0  0.10  0.20           228.4          1.370   \n",
       "267  0.30  0.4  0.0  0.00  0.30           227.3          1.365   \n",
       "268  0.20  0.4  0.4  0.00  0.00           191.4          1.360   \n",
       "\n",
       "     electrical_resistivity       CTE  hardness  boiling_point  atomic_mass  \\\n",
       "0              9.150000e-08  0.000012     637.0        3135.80    56.599470   \n",
       "1              6.668000e-08  0.000013     811.6        3132.80    58.725300   \n",
       "2              8.390000e-08  0.000012     658.0        3146.60    56.980226   \n",
       "3              6.148000e-08  0.000013     832.6        3140.80    59.058098   \n",
       "4              9.939000e-08  0.000010     769.3        3088.98    55.543319   \n",
       "..                      ...       ...       ...            ...          ...   \n",
       "264            8.382000e-08  0.000011     801.4        3110.00    56.695706   \n",
       "265            7.822000e-08  0.000011     843.4        3120.40    57.265386   \n",
       "266            8.650000e-08  0.000011     805.0        3113.80    56.495286   \n",
       "267            8.370000e-08  0.000011     826.0        3119.00    56.780126   \n",
       "268            5.628000e-08  0.000013     853.6        3148.80    59.390896   \n",
       "\n",
       "     poissons_ratio  density_of_solid  en_gosh  melting_point  input.Tsolid  \\\n",
       "0            0.2900           8214.20   1.8450       1814.700   1591.437851   \n",
       "1            0.2980           8352.40   1.8400       1686.908   1207.103589   \n",
       "2            0.2920           8314.40   1.8410       1822.400   1517.457703   \n",
       "3            0.3000           8454.20   1.8420       1686.608   1208.618834   \n",
       "4            0.2704           7983.34   1.8011       1904.550   1428.412500   \n",
       "..              ...               ...      ...            ...           ...   \n",
       "264          0.2790           8168.80   1.8060       1859.177   1361.212076   \n",
       "265          0.2830           8375.60   1.8220       1842.577   1336.748640   \n",
       "266          0.2780           8271.00   1.8150       1887.900   1445.883480   \n",
       "267          0.2800           8374.40   1.8230       1879.600   1408.610080   \n",
       "268          0.3020           8556.00   1.8440       1686.308   1123.042818   \n",
       "\n",
       "     input.Tliquid  output.melting_temperature  \n",
       "0      3182.875703                 2460.416126  \n",
       "1      2414.207177                 1846.231777  \n",
       "2      3034.915406                 2389.329413  \n",
       "3      2417.237668                 1798.395653  \n",
       "4      2856.825000                 2295.532645  \n",
       "..             ...                         ...  \n",
       "264    2722.424153                 2115.888798  \n",
       "265    2673.497280                 1981.905057  \n",
       "266    2891.766961                 2140.598680  \n",
       "267    2817.220160                 2102.176084  \n",
       "268    2246.085636                 1724.945628  \n",
       "\n",
       "[269 rows x 19 columns]"
      ]
     },
     "execution_count": 16,
     "metadata": {},
     "output_type": "execute_result"
    }
   ],
   "source": [
    "display(known)"
   ]
  },
  {
   "cell_type": "markdown",
   "id": "ac056c2f",
   "metadata": {},
   "source": [
    "# Melting Temperature vs Tsolid Temperature vs Tliquid Temperature Plots and Lines of Best Fits"
   ]
  },
  {
   "cell_type": "markdown",
   "id": "358a41b4",
   "metadata": {},
   "source": [
    "Calculated and fitted lines of best fits based on the relationships between the 3 variables"
   ]
  },
  {
   "cell_type": "code",
   "execution_count": 17,
   "id": "1a0214aa",
   "metadata": {
    "ExecuteTime": {
     "end_time": "2024-07-24T02:07:01.101465Z",
     "start_time": "2024-07-24T02:07:00.878809Z"
    }
   },
   "outputs": [
    {
     "data": {
      "image/png": "[encoded data removed]",
      "text/plain": [
       "<Figure size 648x648 with 1 Axes>"
      ]
     },
     "metadata": {
      "needs_background": "light"
     },
     "output_type": "display_data"
    }
   ],
   "source": [
    "# RULE OF MIXTURES CALCULATED MELTING TEMPERATURE VS MOLECULAR DYNAMICS CALCULATED MELTING TEMPERATURE\n",
    "\n",
    "plt.figure(figsize=(9, 9))\n",
    "\n",
    "# Extract data from the DataFrame (relevant columns)\n",
    "x = known['output.melting_temperature'].values\n",
    "y = known['melting_point'].values\n",
    "\n",
    "# Calculate the line of best fit\n",
    "slope, intercept = np.polyfit(x, y, 1)\n",
    "\n",
    "# Plot Formatting\n",
    "plt.scatter(x, y, c='orange', alpha=0.7, s=100)\n",
    "plt.plot(x, slope*x+intercept, color='red', linestyle='--', linewidth=2)\n",
    "plt.grid(True)\n",
    "plt.xlabel('Melting Temperature (K)', fontsize=23)\n",
    "plt.ylabel('Rule Of Mixtures Calculated Temperature (K)', fontsize=23)\n",
    "plt.tick_params(axis='both', labelsize=23)\n",
    "\n",
    "# Calculate the equation of the line of best fit\n",
    "equation = f'y = {intercept:.2f} + {slope:.2f}x'\n",
    "\n",
    "#Equation Label\n",
    "plt.text(0.02, 0.98, equation, transform=plt.gca().transAxes, fontsize=22, ha='left', va='top', bbox=dict(facecolor='white', edgecolor='black', boxstyle='round,pad=0.3'))\n",
    "\n",
    "plt.show()"
   ]
  },
  {
   "cell_type": "code",
   "execution_count": 18,
   "id": "dbb4b073",
   "metadata": {
    "ExecuteTime": {
     "end_time": "2024-07-24T02:07:01.305721Z",
     "start_time": "2024-07-24T02:07:01.301370Z"
    }
   },
   "outputs": [
    {
     "name": "stdout",
     "output_type": "stream",
     "text": [
      "0.2003895711192639 1332.5078439236493\n"
     ]
    }
   ],
   "source": [
    "print(slope, intercept)"
   ]
  },
  {
   "cell_type": "code",
   "execution_count": 19,
   "id": "56b08df8",
   "metadata": {
    "ExecuteTime": {
     "end_time": "2024-07-24T02:07:01.702359Z",
     "start_time": "2024-07-24T02:07:01.506488Z"
    }
   },
   "outputs": [
    {
     "data": {
      "image/png": "[encoded data removed]",
      "text/plain": [
       "<Figure size 648x648 with 1 Axes>"
      ]
     },
     "metadata": {
      "needs_background": "light"
     },
     "output_type": "display_data"
    }
   ],
   "source": [
    "# Tsolid Temperature vs Molecular Dynamics Calculated Melting Temperature\n",
    "\n",
    "plt.figure(figsize=(9, 9))\n",
    "\n",
    "# Extract data from the DataFrame (relevant columns)\n",
    "x = known['output.melting_temperature'].values\n",
    "y = known['input.Tsolid'].values\n",
    "\n",
    "# Calculate the line of best fit\n",
    "slope, intercept = np.polyfit(x, y, 1)\n",
    "\n",
    "# Plot Formatting\n",
    "plt.scatter(x, y, c='orange', alpha=0.7, s=100)\n",
    "plt.plot(x, slope*x+intercept, color='red', linestyle='--', linewidth=2)\n",
    "plt.grid(True)\n",
    "common_fontsize = 23\n",
    "plt.xlabel('Melting Temperature (K)', fontsize=common_fontsize)\n",
    "plt.ylabel('Tsolid Temperature (K)', fontsize=common_fontsize)\n",
    "plt.tick_params(axis='both', labelsize=common_fontsize)\n",
    "\n",
    "# Calculate the equation of the line of best fit\n",
    "equation = f'y = {intercept:.2f} + {slope:.2f}x'\n",
    "\n",
    "# Equation Label\n",
    "plt.text(0.02, 0.98, equation, transform=plt.gca().transAxes, fontsize=common_fontsize, ha='left', va='top', bbox=dict(facecolor='white', edgecolor='black', boxstyle='round,pad=0.3'))\n",
    "\n",
    "plt.show()\n"
   ]
  },
  {
   "cell_type": "code",
   "execution_count": 20,
   "id": "9b242e18",
   "metadata": {
    "ExecuteTime": {
     "end_time": "2024-07-24T02:07:01.911832Z",
     "start_time": "2024-07-24T02:07:01.908228Z"
    }
   },
   "outputs": [
    {
     "name": "stdout",
     "output_type": "stream",
     "text": [
      "0.6020591471024813\n",
      "98.9571768618206\n"
     ]
    }
   ],
   "source": [
    "print(slope)\n",
    "print(intercept)"
   ]
  },
  {
   "cell_type": "code",
   "execution_count": 21,
   "id": "e28af769",
   "metadata": {
    "ExecuteTime": {
     "end_time": "2024-07-24T02:07:02.303911Z",
     "start_time": "2024-07-24T02:07:02.110831Z"
    }
   },
   "outputs": [
    {
     "data": {
      "image/png": "[encoded data removed]",
      "text/plain": [
       "<Figure size 648x648 with 1 Axes>"
      ]
     },
     "metadata": {
      "needs_background": "light"
     },
     "output_type": "display_data"
    }
   ],
   "source": [
    "# Tsolid Temperature vs Molecular Dynamics Calculated Melting Temperature\n",
    "\n",
    "plt.figure(figsize=(9, 9))\n",
    "\n",
    "# Extract data from the DataFrame\n",
    "x = known['output.melting_temperature'].values\n",
    "y = known['input.Tliquid'].values\n",
    "\n",
    "# Calculate the line of best fit\n",
    "slope, intercept = np.polyfit(x, y, 1)\n",
    "\n",
    "#Plot Formatting\n",
    "plt.scatter(x, y, c='orange', alpha=0.7, s=100)\n",
    "plt.plot(x, slope*x+intercept, color='red', linestyle='--', linewidth=2)\n",
    "plt.grid(True)\n",
    "common_fontsize = 23\n",
    "plt.xlabel('Melting Temperature (K)', fontsize=common_fontsize)\n",
    "plt.ylabel('Tliquid Temperature (K)', fontsize=common_fontsize)\n",
    "plt.tick_params(axis='both', labelsize=common_fontsize)\n",
    "\n",
    "# Calculate the equation of the line of best fit\n",
    "equation = f'y = {intercept:.2f} + {slope:.2f}x'\n",
    "\n",
    "# Equation Label\n",
    "plt.text(0.02, 0.98, equation, transform=plt.gca().transAxes, fontsize=common_fontsize, ha='left', va='top', bbox=dict(facecolor='white', edgecolor='black', boxstyle='round,pad=0.3'))\n",
    "\n",
    "plt.show()"
   ]
  },
  {
   "cell_type": "code",
   "execution_count": 22,
   "id": "3fc4f569",
   "metadata": {
    "ExecuteTime": {
     "end_time": "2024-07-24T02:07:02.507355Z",
     "start_time": "2024-07-24T02:07:02.503495Z"
    }
   },
   "outputs": [
    {
     "name": "stdout",
     "output_type": "stream",
     "text": [
      "1.2041182942049546\n",
      "197.9143537236505\n"
     ]
    }
   ],
   "source": [
    "print(slope)\n",
    "print(intercept)"
   ]
  },
  {
   "cell_type": "markdown",
   "id": "14d203de",
   "metadata": {},
   "source": [
    " # Random Forest"
   ]
  },
  {
   "cell_type": "code",
   "execution_count": 23,
   "id": "a75021d2",
   "metadata": {
    "ExecuteTime": {
     "end_time": "2024-07-24T02:07:08.759589Z",
     "start_time": "2024-07-24T02:07:08.721969Z"
    }
   },
   "outputs": [],
   "source": [
    "X = known.iloc[:, :-1]  # Features (all columns except the last one)\n",
    "y = known.iloc[:, -1]   # Target (Melting Temperature)\n",
    "\n",
    "# Split the dataset\n",
    "X_train, X_test, y_train, y_test = train_test_split(X, y, test_size=0.2, random_state=42)"
   ]
  },
  {
   "cell_type": "code",
   "execution_count": 26,
   "id": "09b0b0d3",
   "metadata": {
    "ExecuteTime": {
     "end_time": "2024-07-24T02:07:47.525215Z",
     "start_time": "2024-07-24T02:07:47.521185Z"
    }
   },
   "outputs": [],
   "source": [
    "# Extract data from the DataFrame\n",
    "x = y_train.values\n",
    "y = X_train['input.Tsolid'].values\n",
    "\n",
    "# Calculate the line of best fit (from training data only, to avoid contamination/bias)\n",
    "slope, intercept = np.polyfit(x, y, 1)"
   ]
  },
  {
   "cell_type": "code",
   "execution_count": 27,
   "id": "61621424",
   "metadata": {
    "ExecuteTime": {
     "end_time": "2024-07-24T02:07:48.883461Z",
     "start_time": "2024-07-24T02:07:48.879182Z"
    }
   },
   "outputs": [],
   "source": [
    "tsol_slope = slope\n",
    "tsol_intercept = intercept"
   ]
  },
  {
   "cell_type": "code",
   "execution_count": 28,
   "id": "52ac2dc9",
   "metadata": {
    "ExecuteTime": {
     "end_time": "2024-07-24T02:08:04.063390Z",
     "start_time": "2024-07-24T02:08:04.048039Z"
    }
   },
   "outputs": [],
   "source": [
    "# Extract data from the DataFrame\n",
    "x = y_train.values\n",
    "y = X_train['input.Tliquid'].values\n",
    "\n",
    "# Calculate the line of best fit\n",
    "slope, intercept = np.polyfit(x, y, 1)"
   ]
  },
  {
   "cell_type": "code",
   "execution_count": 29,
   "id": "daa7ab65",
   "metadata": {
    "ExecuteTime": {
     "end_time": "2024-07-24T02:08:05.221902Z",
     "start_time": "2024-07-24T02:08:05.219078Z"
    }
   },
   "outputs": [],
   "source": [
    "tliq_slope = slope\n",
    "tliq_intercept = intercept"
   ]
  },
  {
   "cell_type": "code",
   "execution_count": 30,
   "id": "852dc685",
   "metadata": {
    "ExecuteTime": {
     "end_time": "2024-07-24T02:08:06.249336Z",
     "start_time": "2024-07-24T02:08:06.243865Z"
    }
   },
   "outputs": [],
   "source": [
    "X_train.drop(columns = ['input.Tsolid', 'input.Tliquid'], axis = 1, inplace = True)\n",
    "X_test.drop(columns = ['input.Tsolid', 'input.Tliquid'], axis = 1, inplace = True)"
   ]
  },
  {
   "cell_type": "code",
   "execution_count": 31,
   "id": "4b6c5c43",
   "metadata": {
    "ExecuteTime": {
     "end_time": "2024-07-24T02:08:06.669779Z",
     "start_time": "2024-07-24T02:08:06.665148Z"
    }
   },
   "outputs": [],
   "source": [
    "X_test.reset_index(inplace = True)"
   ]
  },
  {
   "cell_type": "code",
   "execution_count": 32,
   "id": "29aaaba1",
   "metadata": {
    "ExecuteTime": {
     "end_time": "2024-07-24T02:08:08.647064Z",
     "start_time": "2024-07-24T02:08:08.642582Z"
    }
   },
   "outputs": [],
   "source": [
    "X_test.drop(columns = ['index'], axis = 1, inplace = True)"
   ]
  },
  {
   "cell_type": "code",
   "execution_count": 33,
   "id": "090a862d",
   "metadata": {
    "ExecuteTime": {
     "end_time": "2024-07-24T02:08:09.341350Z",
     "start_time": "2024-07-24T02:08:09.304359Z"
    }
   },
   "outputs": [],
   "source": [
    "X_test.to_csv('rf1_test_inputs.csv', index=False)\n",
    "X_train.to_csv('rf1_train_inputs.csv', index=False)\n",
    "y_test.to_csv('rf1_test_outputs.csv', index=False)\n",
    "y_train.to_csv('rf1_train_outputs.csv', index=False)"
   ]
  },
  {
   "cell_type": "code",
   "execution_count": 34,
   "id": "eaef95e8",
   "metadata": {
    "ExecuteTime": {
     "end_time": "2024-07-24T02:08:13.332087Z",
     "start_time": "2024-07-24T02:08:13.035135Z"
    }
   },
   "outputs": [
    {
     "name": "stdout",
     "output_type": "stream",
     "text": [
      "Mean Squared Error: 1778.094791270135\n"
     ]
    }
   ],
   "source": [
    "#Initialize the Random Forest Model\n",
    "model = RandomForestRegressor(n_estimators=100, random_state=42)\n",
    "model.fit(X_train, y_train)\n",
    "\n",
    "# Make predictions\n",
    "predictions = model.predict(X_test)\n",
    "\n",
    "# Evaluate the model\n",
    "mse = mean_squared_error(y_test, predictions)\n",
    "print(f'Mean Squared Error: {mse}')"
   ]
  },
  {
   "cell_type": "code",
   "execution_count": 36,
   "id": "d60db7a4",
   "metadata": {
    "ExecuteTime": {
     "end_time": "2024-07-24T02:09:22.680586Z",
     "start_time": "2024-07-24T02:09:22.402468Z"
    }
   },
   "outputs": [
    {
     "data": {
      "image/png": "[encoded data removed]",
      "text/plain": [
       "<Figure size 648x648 with 1 Axes>"
      ]
     },
     "metadata": {
      "needs_background": "light"
     },
     "output_type": "display_data"
    }
   ],
   "source": [
    "# Calculate predictions for the training data\n",
    "predictions_train = model.predict(X_train)\n",
    "\n",
    "# Calculate predictions for the test data\n",
    "predictions = model.predict(X_test)\n",
    "\n",
    "#Predicted vs Actual Data for training and testing sets, respectively\n",
    "a = y_train\n",
    "a2 = y_test\n",
    "b = predictions_train\n",
    "b2 = predictions\n",
    "\n",
    "#Plot Formatting\n",
    "plt.figure(figsize=(9, 9))\n",
    "plt.scatter(a, b, c='blue', label='Train Data', alpha=0.7, s=100)\n",
    "plt.scatter(a2, b2, c='orange', label='Test Data', alpha=0.7, s=100)\n",
    "plt.axline((0, 0), slope=1, color='black', linestyle='dashed', linewidth=1)\n",
    "plt.xlim(1500, 2600)\n",
    "plt.ylim(1500, 2600)\n",
    "plt.tick_params(axis='both', labelsize=20) \n",
    "plt.xlabel('Molecular Dynamics', fontsize=20)\n",
    "plt.ylabel('Random Forest', fontsize=20)\n",
    "plt.title('Melting Temperature (K)', fontsize=20)\n",
    "plt.legend(fontsize=12)\n",
    "plt.grid(True)\n",
    "plt.show()"
   ]
  },
  {
   "cell_type": "code",
   "execution_count": 41,
   "id": "953d5524",
   "metadata": {
    "ExecuteTime": {
     "end_time": "2024-06-06T23:58:44.545530Z",
     "start_time": "2024-06-06T23:58:44.539412Z"
    }
   },
   "outputs": [],
   "source": [
    "test_dataset = pd.read_csv('rf1_test_inputs.csv')\n",
    "data = test_dataset"
   ]
  },
  {
   "cell_type": "code",
   "execution_count": 44,
   "id": "f0039ac1",
   "metadata": {
    "ExecuteTime": {
     "end_time": "2024-06-06T23:58:50.777197Z",
     "start_time": "2024-06-06T23:58:50.774435Z"
    }
   },
   "outputs": [],
   "source": [
    "numpy_array = data.values\n",
    "\n",
    "# Convert the NumPy array to a PyTorch tensor\n",
    "data = torch.tensor(numpy_array, dtype=torch.float32)"
   ]
  },
  {
   "cell_type": "markdown",
   "id": "3ccc9462",
   "metadata": {},
   "source": [
    "# Test Set Evaluation"
   ]
  },
  {
   "cell_type": "markdown",
   "id": "a8c6070e",
   "metadata": {},
   "source": [
    "Evaluating the Random Forest on the test set, determining the new average number of simulations per alloy"
   ]
  },
  {
   "cell_type": "code",
   "execution_count": 46,
   "id": "d25010a5",
   "metadata": {
    "ExecuteTime": {
     "end_time": "2024-06-04T01:00:11.630526Z",
     "start_time": "2024-06-04T01:00:11.607740Z"
    }
   },
   "outputs": [],
   "source": [
    "inputs = getSimToolInputs(MeltHEA)\n",
    "#print(inputs)"
   ]
  },
  {
   "cell_type": "code",
   "execution_count": 47,
   "id": "cdff6043",
   "metadata": {
    "ExecuteTime": {
     "end_time": "2024-06-04T20:28:38.910456Z",
     "start_time": "2024-06-04T01:00:13.385862Z"
    }
   },
   "outputs": [
    {
     "name": "stdout",
     "output_type": "stream",
     "text": [
      "runname = 58812900baa148d69a2d70f6a4e66b7f\n",
      "outdir  = RUNS/58812900baa148d69a2d70f6a4e66b7f\n",
      "Checking for cached result\n",
      "Executing simTool: meltheas/54/baf2784f43eba20a8b21be23ab590d2208e25c1c\n"
     ]
    },
    {
     "name": "stderr",
     "output_type": "stream",
     "text": [
      "Input Notebook:  /apps/meltheas/r54/simtool/meltheas.ipynb\n",
      "Output Notebook: meltheas.ipynb\n",
      "Executing notebook with kernel: python3\n",
      "Executing: 100%|██████████| 26/26 [34:54<00:00, 80.56s/cell] \n"
     ]
    },
    {
     "name": "stdout",
     "output_type": "stream",
     "text": [
      "Archiving SimTool Result\n",
      "Starting push to cache: Fri 07 Jun 2024 12:42:25 AM UTC\n",
      "Finished push to cache: Fri 07 Jun 2024 12:42:37 AM UTC\n",
      "Fetching cached result\n",
      "First Done\n",
      "done with {} 0\n",
      "runname = 8b22e0f12a544d52b386ed9e7de4c382\n",
      "outdir  = RUNS/8b22e0f12a544d52b386ed9e7de4c382\n",
      "Checking for cached result\n",
      "Executing simTool: meltheas/54/7a0e81e53eb6129857e12f3739582290032376df\n"
     ]
    },
    {
     "name": "stderr",
     "output_type": "stream",
     "text": [
      "Input Notebook:  /apps/meltheas/r54/simtool/meltheas.ipynb\n",
      "Output Notebook: meltheas.ipynb\n",
      "Executing notebook with kernel: python3\n",
      "Executing: 100%|██████████| 26/26 [32:41<00:00, 75.45s/cell] \n"
     ]
    },
    {
     "name": "stdout",
     "output_type": "stream",
     "text": [
      "Archiving SimTool Result\n",
      "Starting push to cache: Fri 07 Jun 2024 01:15:45 AM UTC\n",
      "Finished push to cache: Fri 07 Jun 2024 01:15:58 AM UTC\n",
      "Fetching cached result\n",
      "First Done\n",
      "While Loop\n",
      "runname = fa2104ad254a4bc4a71672b0d5987313\n",
      "outdir  = RUNS/fa2104ad254a4bc4a71672b0d5987313\n",
      "Checking for cached result\n",
      "Executing simTool: meltheas/54/05f63a6934fabaa38b29e4a2f371889e32a448bd\n"
     ]
    },
    {
     "name": "stderr",
     "output_type": "stream",
     "text": [
      "Input Notebook:  /apps/meltheas/r54/simtool/meltheas.ipynb\n",
      "Output Notebook: meltheas.ipynb\n",
      "Executing notebook with kernel: python3\n",
      "Executing: 100%|██████████| 26/26 [47:17<00:00, 109.14s/cell]\n"
     ]
    },
    {
     "name": "stdout",
     "output_type": "stream",
     "text": [
      "Archiving SimTool Result\n",
      "Starting push to cache: Fri 07 Jun 2024 02:03:42 AM UTC\n",
      "Finished push to cache: Fri 07 Jun 2024 02:03:55 AM UTC\n",
      "Fetching cached result\n",
      "done with {} 1\n",
      "runname = cd732155f1fc41e0b7778d564ce4c4c9\n",
      "outdir  = RUNS/cd732155f1fc41e0b7778d564ce4c4c9\n",
      "Checking for cached result\n",
      "Executing simTool: meltheas/54/4ab29a8835a64c507741baa919405de146f35628\n"
     ]
    },
    {
     "name": "stderr",
     "output_type": "stream",
     "text": [
      "Input Notebook:  /apps/meltheas/r54/simtool/meltheas.ipynb\n",
      "Output Notebook: meltheas.ipynb\n",
      "Executing notebook with kernel: python3\n",
      "Executing: 100%|██████████| 26/26 [34:15<00:00, 79.05s/cell] \n"
     ]
    },
    {
     "name": "stdout",
     "output_type": "stream",
     "text": [
      "Archiving SimTool Result\n",
      "Starting push to cache: Fri 07 Jun 2024 02:38:37 AM UTC\n",
      "Finished push to cache: Fri 07 Jun 2024 02:38:49 AM UTC\n",
      "Fetching cached result\n",
      "First Done\n",
      "done with {} 2\n",
      "runname = 8db428d3a8ee4b31ab8dd0898bb9de16\n",
      "outdir  = RUNS/8db428d3a8ee4b31ab8dd0898bb9de16\n",
      "Checking for cached result\n",
      "Executing simTool: meltheas/54/5a0b187cb4cca08120254608b3b79005ae8f3ac1\n"
     ]
    },
    {
     "name": "stderr",
     "output_type": "stream",
     "text": [
      "Input Notebook:  /apps/meltheas/r54/simtool/meltheas.ipynb\n",
      "Output Notebook: meltheas.ipynb\n",
      "Executing notebook with kernel: python3\n",
      "Executing: 100%|██████████| 26/26 [32:18<00:00, 74.56s/cell] \n"
     ]
    },
    {
     "name": "stdout",
     "output_type": "stream",
     "text": [
      "Archiving SimTool Result\n",
      "Starting push to cache: Fri 07 Jun 2024 03:11:34 AM UTC\n",
      "Finished push to cache: Fri 07 Jun 2024 03:11:46 AM UTC\n",
      "Fetching cached result\n",
      "First Done\n",
      "While Loop\n",
      "runname = f10a68dbf09e4e20b026ba5c93c824eb\n",
      "outdir  = RUNS/f10a68dbf09e4e20b026ba5c93c824eb\n",
      "Checking for cached result\n",
      "Executing simTool: meltheas/54/748005dd6879e70dfde1c3fc841256c3c1002165\n"
     ]
    },
    {
     "name": "stderr",
     "output_type": "stream",
     "text": [
      "Input Notebook:  /apps/meltheas/r54/simtool/meltheas.ipynb\n",
      "Output Notebook: meltheas.ipynb\n",
      "Executing notebook with kernel: python3\n",
      "Executing: 100%|██████████| 26/26 [31:57<00:00, 73.74s/cell] \n"
     ]
    },
    {
     "name": "stdout",
     "output_type": "stream",
     "text": [
      "Archiving SimTool Result\n",
      "Starting push to cache: Fri 07 Jun 2024 03:44:10 AM UTC\n",
      "Finished push to cache: Fri 07 Jun 2024 03:44:22 AM UTC\n",
      "Fetching cached result\n",
      "done with {} 3\n",
      "runname = 87b74fbd6bf34337b2c1b19bcf30fd36\n",
      "outdir  = RUNS/87b74fbd6bf34337b2c1b19bcf30fd36\n",
      "Checking for cached result\n",
      "Executing simTool: meltheas/54/46abb9e3ae6dcdcfcfd14b9454ef5d85d81b23b3\n"
     ]
    },
    {
     "name": "stderr",
     "output_type": "stream",
     "text": [
      "Input Notebook:  /apps/meltheas/r54/simtool/meltheas.ipynb\n",
      "Output Notebook: meltheas.ipynb\n",
      "Executing notebook with kernel: python3\n",
      "Executing: 100%|██████████| 26/26 [32:14<00:00, 74.41s/cell] \n"
     ]
    },
    {
     "name": "stdout",
     "output_type": "stream",
     "text": [
      "Archiving SimTool Result\n",
      "Starting push to cache: Fri 07 Jun 2024 04:17:04 AM UTC\n",
      "Finished push to cache: Fri 07 Jun 2024 04:17:16 AM UTC\n",
      "Fetching cached result\n",
      "First Done\n",
      "done with {} 4\n",
      "runname = c9d13a2c52cc4bce90a6a9c83b0004a5\n",
      "outdir  = RUNS/c9d13a2c52cc4bce90a6a9c83b0004a5\n",
      "Checking for cached result\n",
      "Executing simTool: meltheas/54/4533253df2878389c0e94096c1ff85374bcd7ece\n"
     ]
    },
    {
     "name": "stderr",
     "output_type": "stream",
     "text": [
      "Input Notebook:  /apps/meltheas/r54/simtool/meltheas.ipynb\n",
      "Output Notebook: meltheas.ipynb\n",
      "Executing notebook with kernel: python3\n",
      "Executing: 100%|██████████| 26/26 [32:41<00:00, 75.43s/cell] \n"
     ]
    },
    {
     "name": "stdout",
     "output_type": "stream",
     "text": [
      "Archiving SimTool Result\n",
      "Starting push to cache: Fri 07 Jun 2024 04:50:24 AM UTC\n",
      "Finished push to cache: Fri 07 Jun 2024 04:50:36 AM UTC\n",
      "Fetching cached result\n",
      "First Done\n",
      "While Loop\n",
      "runname = 1532e8fa27a948de9810ab92156c114e\n",
      "outdir  = RUNS/1532e8fa27a948de9810ab92156c114e\n",
      "Checking for cached result\n",
      "Executing simTool: meltheas/54/4f6b6d2f19b21264a35276e9f77af5b84c98df48\n"
     ]
    },
    {
     "name": "stderr",
     "output_type": "stream",
     "text": [
      "Input Notebook:  /apps/meltheas/r54/simtool/meltheas.ipynb\n",
      "Output Notebook: meltheas.ipynb\n",
      "Executing notebook with kernel: python3\n",
      "Executing: 100%|██████████| 26/26 [32:58<00:00, 76.10s/cell] \n"
     ]
    },
    {
     "name": "stdout",
     "output_type": "stream",
     "text": [
      "Archiving SimTool Result\n",
      "Starting push to cache: Fri 07 Jun 2024 05:24:01 AM UTC\n",
      "Finished push to cache: Fri 07 Jun 2024 05:24:14 AM UTC\n",
      "Fetching cached result\n",
      "done with {} 5\n",
      "runname = d90bc82dfa174da8bf3b8236f56b81ae\n",
      "outdir  = RUNS/d90bc82dfa174da8bf3b8236f56b81ae\n",
      "Checking for cached result\n",
      "Executing simTool: meltheas/54/418d784e5ab9b9277b8093e8221786a7a1bb0d3e\n"
     ]
    },
    {
     "name": "stderr",
     "output_type": "stream",
     "text": [
      "Input Notebook:  /apps/meltheas/r54/simtool/meltheas.ipynb\n",
      "Output Notebook: meltheas.ipynb\n",
      "Executing notebook with kernel: python3\n",
      "Executing: 100%|██████████| 26/26 [33:48<00:00, 78.01s/cell] \n"
     ]
    },
    {
     "name": "stdout",
     "output_type": "stream",
     "text": [
      "Archiving SimTool Result\n",
      "Starting push to cache: Fri 07 Jun 2024 05:58:29 AM UTC\n",
      "Finished push to cache: Fri 07 Jun 2024 05:58:41 AM UTC\n",
      "Fetching cached result\n",
      "First Done\n",
      "done with {} 6\n",
      "runname = e45657d2aea748d498834b029cae9db5\n",
      "outdir  = RUNS/e45657d2aea748d498834b029cae9db5\n",
      "Checking for cached result\n",
      "Executing simTool: meltheas/54/e9727c936fc3a48d5f9c85c73168e37a8ca7eeda\n"
     ]
    },
    {
     "name": "stderr",
     "output_type": "stream",
     "text": [
      "Input Notebook:  /apps/meltheas/r54/simtool/meltheas.ipynb\n",
      "Output Notebook: meltheas.ipynb\n",
      "Executing notebook with kernel: python3\n",
      "Executing: 100%|██████████| 26/26 [32:59<00:00, 76.14s/cell] \n"
     ]
    },
    {
     "name": "stdout",
     "output_type": "stream",
     "text": [
      "Archiving SimTool Result\n",
      "Starting push to cache: Fri 07 Jun 2024 06:32:07 AM UTC\n",
      "Finished push to cache: Fri 07 Jun 2024 06:32:19 AM UTC\n",
      "Fetching cached result\n",
      "First Done\n",
      "While Loop\n",
      "runname = 6256343e6c4a4e4ca4dc9721f7114861\n",
      "outdir  = RUNS/6256343e6c4a4e4ca4dc9721f7114861\n",
      "Checking for cached result\n",
      "Executing simTool: meltheas/54/f459b06f508a854de1b20f07ef4c449fd01b22e0\n"
     ]
    },
    {
     "name": "stderr",
     "output_type": "stream",
     "text": [
      "Input Notebook:  /apps/meltheas/r54/simtool/meltheas.ipynb\n",
      "Output Notebook: meltheas.ipynb\n",
      "Executing notebook with kernel: python3\n",
      "Executing: 100%|██████████| 26/26 [47:42<00:00, 110.09s/cell]\n"
     ]
    },
    {
     "name": "stdout",
     "output_type": "stream",
     "text": [
      "Archiving SimTool Result\n",
      "Starting push to cache: Fri 07 Jun 2024 07:20:28 AM UTC\n",
      "Finished push to cache: Fri 07 Jun 2024 07:20:48 AM UTC\n",
      "Fetching cached result\n",
      "done with {} 7\n",
      "runname = 07e1597702e74a2e94919e62fc9caee4\n",
      "outdir  = RUNS/07e1597702e74a2e94919e62fc9caee4\n",
      "Checking for cached result\n",
      "Executing simTool: meltheas/54/a435ee0057c061f730aae230b4ef04a3db808a5a\n"
     ]
    },
    {
     "name": "stderr",
     "output_type": "stream",
     "text": [
      "Input Notebook:  /apps/meltheas/r54/simtool/meltheas.ipynb\n",
      "Output Notebook: meltheas.ipynb\n",
      "Executing notebook with kernel: python3\n",
      "Executing: 100%|██████████| 26/26 [31:24<00:00, 72.49s/cell] \n"
     ]
    },
    {
     "name": "stdout",
     "output_type": "stream",
     "text": [
      "Archiving SimTool Result\n",
      "Starting push to cache: Fri 07 Jun 2024 07:52:41 AM UTC\n",
      "Finished push to cache: Fri 07 Jun 2024 07:52:53 AM UTC\n",
      "Fetching cached result\n",
      "First Done\n",
      "done with {} 8\n",
      "runname = 991be538d749481d9643988b941eefc3\n",
      "outdir  = RUNS/991be538d749481d9643988b941eefc3\n",
      "Checking for cached result\n",
      "Executing simTool: meltheas/54/221cc6585896c8a00a5116d74e32c3ce23740fcf\n"
     ]
    },
    {
     "name": "stderr",
     "output_type": "stream",
     "text": [
      "Input Notebook:  /apps/meltheas/r54/simtool/meltheas.ipynb\n",
      "Output Notebook: meltheas.ipynb\n",
      "Executing notebook with kernel: python3\n",
      "Executing: 100%|██████████| 26/26 [33:25<00:00, 77.13s/cell] \n"
     ]
    },
    {
     "name": "stdout",
     "output_type": "stream",
     "text": [
      "Archiving SimTool Result\n",
      "Starting push to cache: Fri 07 Jun 2024 08:26:48 AM UTC\n",
      "Finished push to cache: Fri 07 Jun 2024 08:27:01 AM UTC\n",
      "Fetching cached result\n",
      "First Done\n",
      "done with {} 9\n",
      "runname = e4fba05d0b634cb292397c2a32a77878\n",
      "outdir  = RUNS/e4fba05d0b634cb292397c2a32a77878\n",
      "Checking for cached result\n",
      "Executing simTool: meltheas/54/a3322630485b730ce43cba6943c309a813f05bc6\n"
     ]
    },
    {
     "name": "stderr",
     "output_type": "stream",
     "text": [
      "Input Notebook:  /apps/meltheas/r54/simtool/meltheas.ipynb\n",
      "Output Notebook: meltheas.ipynb\n",
      "Executing notebook with kernel: python3\n",
      "Executing: 100%|██████████| 26/26 [31:03<00:00, 71.66s/cell] \n"
     ]
    },
    {
     "name": "stdout",
     "output_type": "stream",
     "text": [
      "Archiving SimTool Result\n",
      "Starting push to cache: Fri 07 Jun 2024 08:58:39 AM UTC\n",
      "Finished push to cache: Fri 07 Jun 2024 08:58:51 AM UTC\n",
      "Fetching cached result\n",
      "First Done\n",
      "While Loop\n",
      "runname = d76fb6af42c84fe3ad076b025bd15e72\n",
      "outdir  = RUNS/d76fb6af42c84fe3ad076b025bd15e72\n",
      "Checking for cached result\n",
      "Executing simTool: meltheas/54/7dde43516e7fd337652679fdfa0b57da44f8a028\n"
     ]
    },
    {
     "name": "stderr",
     "output_type": "stream",
     "text": [
      "Input Notebook:  /apps/meltheas/r54/simtool/meltheas.ipynb\n",
      "Output Notebook: meltheas.ipynb\n",
      "Executing notebook with kernel: python3\n",
      "Executing: 100%|██████████| 26/26 [31:10<00:00, 71.95s/cell] \n"
     ]
    },
    {
     "name": "stdout",
     "output_type": "stream",
     "text": [
      "Archiving SimTool Result\n",
      "Starting push to cache: Fri 07 Jun 2024 09:30:29 AM UTC\n",
      "Finished push to cache: Fri 07 Jun 2024 09:30:42 AM UTC\n",
      "Fetching cached result\n",
      "While Loop\n",
      "runname = 6afe12caab25420d9fbe90e4d04738b7\n",
      "outdir  = RUNS/6afe12caab25420d9fbe90e4d04738b7\n",
      "Checking for cached result\n",
      "Executing simTool: meltheas/54/1e295ddf723962b5dea42b4a31aab905947c2244\n"
     ]
    },
    {
     "name": "stderr",
     "output_type": "stream",
     "text": [
      "Input Notebook:  /apps/meltheas/r54/simtool/meltheas.ipynb\n",
      "Output Notebook: meltheas.ipynb\n",
      "Executing notebook with kernel: python3\n",
      "Executing: 100%|██████████| 26/26 [31:16<00:00, 72.18s/cell] \n"
     ]
    },
    {
     "name": "stdout",
     "output_type": "stream",
     "text": [
      "Archiving SimTool Result\n",
      "Starting push to cache: Fri 07 Jun 2024 10:02:26 AM UTC\n",
      "Finished push to cache: Fri 07 Jun 2024 10:02:39 AM UTC\n",
      "Fetching cached result\n",
      "While Loop\n",
      "runname = 6d1e554c04684e2baa7831061126051a\n",
      "outdir  = RUNS/6d1e554c04684e2baa7831061126051a\n",
      "Checking for cached result\n",
      "Executing simTool: meltheas/54/7ab039174d57a8eeaa2aa9fef3ee5ac48c645412\n"
     ]
    },
    {
     "name": "stderr",
     "output_type": "stream",
     "text": [
      "Input Notebook:  /apps/meltheas/r54/simtool/meltheas.ipynb\n",
      "Output Notebook: meltheas.ipynb\n",
      "Executing notebook with kernel: python3\n",
      "Executing: 100%|██████████| 26/26 [31:30<00:00, 72.70s/cell] \n"
     ]
    },
    {
     "name": "stdout",
     "output_type": "stream",
     "text": [
      "Archiving SimTool Result\n",
      "Starting push to cache: Fri 07 Jun 2024 10:34:37 AM UTC\n",
      "Finished push to cache: Fri 07 Jun 2024 10:34:49 AM UTC\n",
      "Fetching cached result\n",
      "done with {} 10\n",
      "runname = 8fa03144a90e49e0b26e5035418238dd\n",
      "outdir  = RUNS/8fa03144a90e49e0b26e5035418238dd\n",
      "Checking for cached result\n",
      "Executing simTool: meltheas/54/cb005a0deb1c3382ccec6a6d6d6a3245c5a33f54\n"
     ]
    },
    {
     "name": "stderr",
     "output_type": "stream",
     "text": [
      "Input Notebook:  /apps/meltheas/r54/simtool/meltheas.ipynb\n",
      "Output Notebook: meltheas.ipynb\n",
      "Executing notebook with kernel: python3\n",
      "Executing: 100%|██████████| 26/26 [33:09<00:00, 76.52s/cell] \n"
     ]
    },
    {
     "name": "stdout",
     "output_type": "stream",
     "text": [
      "Archiving SimTool Result\n",
      "Starting push to cache: Fri 07 Jun 2024 11:08:26 AM UTC\n",
      "Finished push to cache: Fri 07 Jun 2024 11:08:38 AM UTC\n",
      "Fetching cached result\n",
      "First Done\n",
      "done with {} 11\n",
      "runname = 3ec083697ad14d11a3ff5f40cdcb4610\n",
      "outdir  = RUNS/3ec083697ad14d11a3ff5f40cdcb4610\n",
      "Checking for cached result\n",
      "Executing simTool: meltheas/54/8e33f7c207426d4e5df8b1aec8dc2fe0bfce5b4a\n"
     ]
    },
    {
     "name": "stderr",
     "output_type": "stream",
     "text": [
      "Input Notebook:  /apps/meltheas/r54/simtool/meltheas.ipynb\n",
      "Output Notebook: meltheas.ipynb\n",
      "Executing notebook with kernel: python3\n",
      "Executing: 100%|██████████| 26/26 [32:19<00:00, 74.58s/cell] \n"
     ]
    },
    {
     "name": "stdout",
     "output_type": "stream",
     "text": [
      "Archiving SimTool Result\n",
      "Starting push to cache: Fri 07 Jun 2024 11:41:24 AM UTC\n",
      "Finished push to cache: Fri 07 Jun 2024 11:41:36 AM UTC\n",
      "Fetching cached result\n",
      "First Done\n",
      "done with {} 12\n",
      "runname = f518c199962940b5ae8e57c94494aa5b\n",
      "outdir  = RUNS/f518c199962940b5ae8e57c94494aa5b\n",
      "Checking for cached result\n",
      "Executing simTool: meltheas/54/46431eb67bea484f13b2a7e88aa7316aef75520e\n"
     ]
    },
    {
     "name": "stderr",
     "output_type": "stream",
     "text": [
      "Input Notebook:  /apps/meltheas/r54/simtool/meltheas.ipynb\n",
      "Output Notebook: meltheas.ipynb\n",
      "Executing notebook with kernel: python3\n",
      "Executing: 100%|██████████| 26/26 [33:15<00:00, 76.74s/cell] \n"
     ]
    },
    {
     "name": "stdout",
     "output_type": "stream",
     "text": [
      "Archiving SimTool Result\n",
      "Starting push to cache: Fri 07 Jun 2024 12:15:21 PM UTC\n",
      "Finished push to cache: Fri 07 Jun 2024 12:15:34 PM UTC\n",
      "Fetching cached result\n",
      "First Done\n",
      "done with {} 13\n",
      "runname = 698bd8ea7dc64d5cbf2eaf40ff5fbe3f\n",
      "outdir  = RUNS/698bd8ea7dc64d5cbf2eaf40ff5fbe3f\n",
      "Checking for cached result\n",
      "Executing simTool: meltheas/54/0fc1615b55c795a7f081a5efcdc46a7f026ba92b\n"
     ]
    },
    {
     "name": "stderr",
     "output_type": "stream",
     "text": [
      "Input Notebook:  /apps/meltheas/r54/simtool/meltheas.ipynb\n",
      "Output Notebook: meltheas.ipynb\n",
      "Executing notebook with kernel: python3\n",
      "Executing: 100%|██████████| 26/26 [33:24<00:00, 77.10s/cell] \n"
     ]
    },
    {
     "name": "stdout",
     "output_type": "stream",
     "text": [
      "Archiving SimTool Result\n",
      "Starting push to cache: Fri 07 Jun 2024 12:49:25 PM UTC\n",
      "Finished push to cache: Fri 07 Jun 2024 12:49:37 PM UTC\n",
      "Fetching cached result\n",
      "First Done\n",
      "done with {} 14\n",
      "runname = 44ca95cfb5c6427f9ce1c1c1cc199550\n",
      "outdir  = RUNS/44ca95cfb5c6427f9ce1c1c1cc199550\n",
      "Checking for cached result\n",
      "Executing simTool: meltheas/54/564eeeaaf13006838b02ca5792443979890c9be0\n"
     ]
    },
    {
     "name": "stderr",
     "output_type": "stream",
     "text": [
      "Input Notebook:  /apps/meltheas/r54/simtool/meltheas.ipynb\n",
      "Output Notebook: meltheas.ipynb\n",
      "Executing notebook with kernel: python3\n",
      "Executing: 100%|██████████| 26/26 [31:28<00:00, 72.64s/cell] \n"
     ]
    },
    {
     "name": "stdout",
     "output_type": "stream",
     "text": [
      "Archiving SimTool Result\n",
      "Starting push to cache: Fri 07 Jun 2024 01:21:32 PM UTC\n",
      "Finished push to cache: Fri 07 Jun 2024 01:21:44 PM UTC\n",
      "Fetching cached result\n",
      "First Done\n",
      "done with {} 15\n",
      "runname = 76cd137b294a4e198996c3d250513c1a\n",
      "outdir  = RUNS/76cd137b294a4e198996c3d250513c1a\n",
      "Checking for cached result\n",
      "Executing simTool: meltheas/54/848bc19de5b37217cd6f194bd93959d2139e343e\n"
     ]
    },
    {
     "name": "stderr",
     "output_type": "stream",
     "text": [
      "Input Notebook:  /apps/meltheas/r54/simtool/meltheas.ipynb\n",
      "Output Notebook: meltheas.ipynb\n",
      "Executing notebook with kernel: python3\n",
      "Executing: 100%|██████████| 26/26 [32:34<00:00, 75.18s/cell] \n"
     ]
    },
    {
     "name": "stdout",
     "output_type": "stream",
     "text": [
      "Archiving SimTool Result\n",
      "Starting push to cache: Fri 07 Jun 2024 01:54:45 PM UTC\n",
      "Finished push to cache: Fri 07 Jun 2024 01:54:57 PM UTC\n",
      "Fetching cached result\n",
      "First Done\n",
      "done with {} 16\n",
      "runname = 3f52eb814186455fbe48e3ba0083b18e\n",
      "outdir  = RUNS/3f52eb814186455fbe48e3ba0083b18e\n",
      "Checking for cached result\n",
      "Executing simTool: meltheas/54/0a727c22ccc632f482dd21d6d24827988a3f2d6c\n"
     ]
    },
    {
     "name": "stderr",
     "output_type": "stream",
     "text": [
      "Input Notebook:  /apps/meltheas/r54/simtool/meltheas.ipynb\n",
      "Output Notebook: meltheas.ipynb\n",
      "Executing notebook with kernel: python3\n",
      "Executing: 100%|██████████| 26/26 [33:56<00:00, 78.33s/cell] \n"
     ]
    },
    {
     "name": "stdout",
     "output_type": "stream",
     "text": [
      "Archiving SimTool Result\n",
      "Starting push to cache: Fri 07 Jun 2024 02:29:20 PM UTC\n",
      "Finished push to cache: Fri 07 Jun 2024 02:29:32 PM UTC\n",
      "Fetching cached result\n",
      "First Done\n",
      "done with {} 17\n",
      "runname = 636d1beb9fa5463daf3de03084cd9e2b\n",
      "outdir  = RUNS/636d1beb9fa5463daf3de03084cd9e2b\n",
      "Checking for cached result\n",
      "Executing simTool: meltheas/54/19db1223d6d949b9050983e311b223c404a7da0c\n"
     ]
    },
    {
     "name": "stderr",
     "output_type": "stream",
     "text": [
      "Input Notebook:  /apps/meltheas/r54/simtool/meltheas.ipynb\n",
      "Output Notebook: meltheas.ipynb\n",
      "Executing notebook with kernel: python3\n",
      "Executing: 100%|██████████| 26/26 [32:52<00:00, 75.86s/cell] \n"
     ]
    },
    {
     "name": "stdout",
     "output_type": "stream",
     "text": [
      "Archiving SimTool Result\n",
      "Starting push to cache: Fri 07 Jun 2024 03:02:51 PM UTC\n",
      "Finished push to cache: Fri 07 Jun 2024 03:03:02 PM UTC\n",
      "Fetching cached result\n",
      "First Done\n",
      "done with {} 18\n",
      "runname = 64da1bf6cdcf49da8c84a8cba9496aa4\n",
      "outdir  = RUNS/64da1bf6cdcf49da8c84a8cba9496aa4\n",
      "Checking for cached result\n",
      "Executing simTool: meltheas/54/ecb6b8a2d385a51d0e02c0cff4ea565b9d80e1dd\n"
     ]
    },
    {
     "name": "stderr",
     "output_type": "stream",
     "text": [
      "Input Notebook:  /apps/meltheas/r54/simtool/meltheas.ipynb\n",
      "Output Notebook: meltheas.ipynb\n",
      "Executing notebook with kernel: python3\n",
      "Executing: 100%|██████████| 26/26 [33:28<00:00, 77.25s/cell] \n"
     ]
    },
    {
     "name": "stdout",
     "output_type": "stream",
     "text": [
      "Archiving SimTool Result\n",
      "Starting push to cache: Fri 07 Jun 2024 03:36:57 PM UTC\n",
      "Finished push to cache: Fri 07 Jun 2024 03:37:09 PM UTC\n",
      "Fetching cached result\n",
      "First Done\n",
      "done with {} 19\n",
      "runname = 1e511d093c3043879c3a3c2708761884\n",
      "outdir  = RUNS/1e511d093c3043879c3a3c2708761884\n",
      "Checking for cached result\n",
      "Executing simTool: meltheas/54/b318b6372ac2f427ea00cf71dd7fcf63d6b958f9\n"
     ]
    },
    {
     "name": "stderr",
     "output_type": "stream",
     "text": [
      "Input Notebook:  /apps/meltheas/r54/simtool/meltheas.ipynb\n",
      "Output Notebook: meltheas.ipynb\n",
      "Executing notebook with kernel: python3\n",
      "Executing: 100%|██████████| 26/26 [33:31<00:00, 77.37s/cell] \n"
     ]
    },
    {
     "name": "stdout",
     "output_type": "stream",
     "text": [
      "Archiving SimTool Result\n",
      "Starting push to cache: Fri 07 Jun 2024 04:11:07 PM UTC\n",
      "Finished push to cache: Fri 07 Jun 2024 04:11:19 PM UTC\n",
      "Fetching cached result\n",
      "First Done\n",
      "done with {} 20\n",
      "runname = b303f048a1a14671889fe58e8bf055d3\n",
      "outdir  = RUNS/b303f048a1a14671889fe58e8bf055d3\n",
      "Checking for cached result\n",
      "Executing simTool: meltheas/54/1ed6fcc5502e3f9be4610a3b2d1a7af3f37e4039\n"
     ]
    },
    {
     "name": "stderr",
     "output_type": "stream",
     "text": [
      "Input Notebook:  /apps/meltheas/r54/simtool/meltheas.ipynb\n",
      "Output Notebook: meltheas.ipynb\n",
      "Executing notebook with kernel: python3\n",
      "Executing: 100%|██████████| 26/26 [32:47<00:00, 75.68s/cell] \n"
     ]
    },
    {
     "name": "stdout",
     "output_type": "stream",
     "text": [
      "Archiving SimTool Result\n",
      "Starting push to cache: Fri 07 Jun 2024 04:44:33 PM UTC\n",
      "Finished push to cache: Fri 07 Jun 2024 04:44:45 PM UTC\n",
      "Fetching cached result\n",
      "First Done\n",
      "While Loop\n",
      "runname = 96187778110845f09840a2f6a5402ae9\n",
      "outdir  = RUNS/96187778110845f09840a2f6a5402ae9\n",
      "Checking for cached result\n",
      "Executing simTool: meltheas/54/97c50d96af2af51efd8f97053458f5972061c2fd\n"
     ]
    },
    {
     "name": "stderr",
     "output_type": "stream",
     "text": [
      "Input Notebook:  /apps/meltheas/r54/simtool/meltheas.ipynb\n",
      "Output Notebook: meltheas.ipynb\n",
      "Executing notebook with kernel: python3\n",
      "Executing: 100%|██████████| 26/26 [47:52<00:00, 110.48s/cell]\n"
     ]
    },
    {
     "name": "stdout",
     "output_type": "stream",
     "text": [
      "Archiving SimTool Result\n",
      "Starting push to cache: Fri 07 Jun 2024 05:33:04 PM UTC\n",
      "Finished push to cache: Fri 07 Jun 2024 05:33:17 PM UTC\n",
      "Fetching cached result\n",
      "done with {} 21\n",
      "runname = 75176a08efd64946a362b407fdd11c34\n",
      "outdir  = RUNS/75176a08efd64946a362b407fdd11c34\n",
      "Checking for cached result\n",
      "Executing simTool: meltheas/54/9303caeae780cb22518170ab190cf8b78b2d0f2b\n"
     ]
    },
    {
     "name": "stderr",
     "output_type": "stream",
     "text": [
      "Input Notebook:  /apps/meltheas/r54/simtool/meltheas.ipynb\n",
      "Output Notebook: meltheas.ipynb\n",
      "Executing notebook with kernel: python3\n",
      "Executing: 100%|██████████| 26/26 [33:54<00:00, 78.26s/cell] \n"
     ]
    },
    {
     "name": "stdout",
     "output_type": "stream",
     "text": [
      "Archiving SimTool Result\n",
      "Starting push to cache: Fri 07 Jun 2024 06:07:38 PM UTC\n",
      "Finished push to cache: Fri 07 Jun 2024 06:07:50 PM UTC\n",
      "Fetching cached result\n",
      "First Done\n",
      "done with {} 22\n",
      "runname = e01f7ad7a5a6468e873a473b7b73d0bc\n",
      "outdir  = RUNS/e01f7ad7a5a6468e873a473b7b73d0bc\n",
      "Checking for cached result\n",
      "Executing simTool: meltheas/54/f68fa0f30759247bff40bb14e2680605d85e43d7\n"
     ]
    },
    {
     "name": "stderr",
     "output_type": "stream",
     "text": [
      "Input Notebook:  /apps/meltheas/r54/simtool/meltheas.ipynb\n",
      "Output Notebook: meltheas.ipynb\n",
      "Executing notebook with kernel: python3\n",
      "Executing: 100%|██████████| 26/26 [34:04<00:00, 78.64s/cell] \n"
     ]
    },
    {
     "name": "stdout",
     "output_type": "stream",
     "text": [
      "Archiving SimTool Result\n",
      "Starting push to cache: Fri 07 Jun 2024 06:42:21 PM UTC\n",
      "Finished push to cache: Fri 07 Jun 2024 06:42:33 PM UTC\n",
      "Fetching cached result\n",
      "First Done\n",
      "While Loop\n",
      "runname = 05fcf9a9705546d1837eb5d44dde8168\n",
      "outdir  = RUNS/05fcf9a9705546d1837eb5d44dde8168\n",
      "Checking for cached result\n",
      "Executing simTool: meltheas/54/bc16866b4f03666828461f8d15bbf827fb6cb11c\n"
     ]
    },
    {
     "name": "stderr",
     "output_type": "stream",
     "text": [
      "Input Notebook:  /apps/meltheas/r54/simtool/meltheas.ipynb\n",
      "Output Notebook: meltheas.ipynb\n",
      "Executing notebook with kernel: python3\n",
      "Executing: 100%|██████████| 26/26 [49:08<00:00, 113.41s/cell]\n"
     ]
    },
    {
     "name": "stdout",
     "output_type": "stream",
     "text": [
      "Archiving SimTool Result\n",
      "Starting push to cache: Fri 07 Jun 2024 07:32:09 PM UTC\n",
      "Finished push to cache: Fri 07 Jun 2024 07:32:21 PM UTC\n",
      "Fetching cached result\n",
      "done with {} 23\n",
      "runname = 79f3c32a655f40b6bc9b720a2e4894d6\n",
      "outdir  = RUNS/79f3c32a655f40b6bc9b720a2e4894d6\n",
      "Checking for cached result\n",
      "Found cached result = meltheas/54/bfe9489d085f889800ba5752ac96205dcd0d9204\n",
      "First Done\n",
      "done with {} 24\n",
      "runname = 06e284b79f8e42339e8b52df7a76e34b\n",
      "outdir  = RUNS/06e284b79f8e42339e8b52df7a76e34b\n",
      "Checking for cached result\n",
      "Found cached result = meltheas/54/f7f12077f5ff8ba6081520ba1bbaa6306b35eb9b\n",
      "First Done\n",
      "done with {} 25\n",
      "runname = 9ddfdcc525cd4b3ea0e6c56d9dd5b3bf\n",
      "outdir  = RUNS/9ddfdcc525cd4b3ea0e6c56d9dd5b3bf\n",
      "Checking for cached result\n",
      "Found cached result = meltheas/54/e73445d67a44664914bd83117aad31f290053961\n",
      "First Done\n",
      "done with {} 26\n",
      "runname = fc9a3d0f862a4c17a0bb7e807e15a428\n",
      "outdir  = RUNS/fc9a3d0f862a4c17a0bb7e807e15a428\n",
      "Checking for cached result\n",
      "Found cached result = meltheas/54/8d91afc6a5861f30079391ac99f107b71d5234a3\n",
      "First Done\n",
      "done with {} 27\n",
      "runname = 3048adebaf2e4375a6cc39ca8183b7cb\n",
      "outdir  = RUNS/3048adebaf2e4375a6cc39ca8183b7cb\n",
      "Checking for cached result\n",
      "Found cached result = meltheas/54/887891a997913f5c40b0c40f396e3f36794273d0\n",
      "First Done\n",
      "While Loop\n",
      "runname = ac5629edfb7141348d493c7173e22a4f\n",
      "outdir  = RUNS/ac5629edfb7141348d493c7173e22a4f\n",
      "Checking for cached result\n",
      "Found cached result = meltheas/54/849105d7951179306872f6214ba960174976ab01\n",
      "done with {} 28\n",
      "runname = 33c3baad07dc4d71ae7461df069530a6\n",
      "outdir  = RUNS/33c3baad07dc4d71ae7461df069530a6\n",
      "Checking for cached result\n",
      "Found cached result = meltheas/54/75ed2e9fb9ed2e0ded88dcfa5afd005e7db6bf31\n",
      "First Done\n",
      "done with {} 29\n",
      "runname = 13db2db5c147478b9e5d819b8f422731\n",
      "outdir  = RUNS/13db2db5c147478b9e5d819b8f422731\n",
      "Checking for cached result\n",
      "Found cached result = meltheas/54/983e684b1e2e03bea0d64c40d7457e2e67414c4c\n",
      "First Done\n",
      "done with {} 30\n",
      "runname = 5be80b9a018d441c949eb8a26404449b\n",
      "outdir  = RUNS/5be80b9a018d441c949eb8a26404449b\n",
      "Checking for cached result\n",
      "Found cached result = meltheas/54/03c3c21743fb8f6150f946fb3350441b4f8f227a\n",
      "First Done\n",
      "done with {} 31\n",
      "runname = 863c925d8bd34bf387a40606f711ee22\n",
      "outdir  = RUNS/863c925d8bd34bf387a40606f711ee22\n",
      "Checking for cached result\n",
      "Found cached result = meltheas/54/6f26aac954b56f56e6a0f65cd0b0b5fa2fd8b680\n",
      "First Done\n",
      "done with {} 32\n",
      "runname = 3b71b3a5d7db41c993655dfe247ee0a4\n",
      "outdir  = RUNS/3b71b3a5d7db41c993655dfe247ee0a4\n",
      "Checking for cached result\n",
      "Found cached result = meltheas/54/2e1b84094eea73ceaef6d1b65be82644ae8dd4a1\n",
      "First Done\n",
      "done with {} 33\n",
      "runname = bfc84beb13c245d88b21b093e59a814a\n",
      "outdir  = RUNS/bfc84beb13c245d88b21b093e59a814a\n",
      "Checking for cached result\n",
      "Found cached result = meltheas/54/2003cfd9a1f6f637ef75b6d7c764d241085a4f4b\n",
      "First Done\n",
      "done with {} 34\n",
      "runname = 4f09eac06a3c48d5b0c902854c394f2a\n",
      "outdir  = RUNS/4f09eac06a3c48d5b0c902854c394f2a\n",
      "Checking for cached result\n",
      "Found cached result = meltheas/54/9f311486f827c7345613d978e0c862e2c106ab57\n",
      "First Done\n",
      "done with {} 35\n",
      "runname = 95c25ecf050c4c23b7b3f32f122b3a9d\n",
      "outdir  = RUNS/95c25ecf050c4c23b7b3f32f122b3a9d\n",
      "Checking for cached result\n",
      "Found cached result = meltheas/54/d10708cd26aa26087fbab94f324f285e85ab7991\n",
      "First Done\n",
      "done with {} 36\n",
      "runname = 983c1385a2494fc9b7fd15cf65d6836e\n",
      "outdir  = RUNS/983c1385a2494fc9b7fd15cf65d6836e\n",
      "Checking for cached result\n",
      "Found cached result = meltheas/54/5730dde966cc1cbb4263e3f2bd5bbcc791df3ee9\n",
      "First Done\n",
      "done with {} 37\n",
      "runname = 70308e37a611439e9e3019e55c87ea43\n",
      "outdir  = RUNS/70308e37a611439e9e3019e55c87ea43\n",
      "Checking for cached result\n",
      "Found cached result = meltheas/54/924311c7b4d43dfcfe6397f936fa5a8d88cab785\n",
      "First Done\n",
      "done with {} 38\n",
      "runname = 1724c6a23d9c4148995ff8fd3f679523\n",
      "outdir  = RUNS/1724c6a23d9c4148995ff8fd3f679523\n",
      "Checking for cached result\n",
      "Found cached result = meltheas/54/868d59ab22e54e3b23a6b965c5c3fb6f0d8af279\n",
      "First Done\n",
      "done with {} 39\n",
      "runname = ea81f050260749fc8a68d1a74547a4ff\n",
      "outdir  = RUNS/ea81f050260749fc8a68d1a74547a4ff\n",
      "Checking for cached result\n",
      "Found cached result = meltheas/54/ae1bd96b6c5dc50ebc733bc157c757431057202e\n",
      "First Done\n",
      "done with {} 40\n",
      "runname = 755337ec039e48e5adf7c98da0dedb7f\n",
      "outdir  = RUNS/755337ec039e48e5adf7c98da0dedb7f\n",
      "Checking for cached result\n",
      "Found cached result = meltheas/54/b624ed5a5c887542acca8d90e353410a01e41689\n",
      "First Done\n",
      "done with {} 41\n",
      "runname = 9d1eeb3d307d48409680785db7acaf4a\n",
      "outdir  = RUNS/9d1eeb3d307d48409680785db7acaf4a\n",
      "Checking for cached result\n",
      "Found cached result = meltheas/54/c763ce656b4a7af42ad307b6f3c1a1597936cf97\n",
      "First Done\n",
      "done with {} 42\n",
      "runname = df6bbdb053484d7ea5b3e9491799b8f2\n",
      "outdir  = RUNS/df6bbdb053484d7ea5b3e9491799b8f2\n",
      "Checking for cached result\n",
      "Found cached result = meltheas/54/155d3fe30d90df7b2c8a770091885820d94bec2d\n",
      "First Done\n",
      "done with {} 43\n",
      "runname = 23befba3c1454662b00bfb4e4befa324\n",
      "outdir  = RUNS/23befba3c1454662b00bfb4e4befa324\n",
      "Checking for cached result\n",
      "Found cached result = meltheas/54/4fac6b8b746613530f998e09e5d16d15ec4fab8a\n",
      "First Done\n",
      "While Loop\n",
      "runname = 8fcb593c7ae64e8da42f9262f41c75ef\n",
      "outdir  = RUNS/8fcb593c7ae64e8da42f9262f41c75ef\n",
      "Checking for cached result\n",
      "Found cached result = meltheas/54/eabace997b7f2854ca624a965a6c0c351a34f02d\n",
      "done with {} 44\n",
      "runname = 2014bc3fd6fe4d729fd7418a20312f5e\n",
      "outdir  = RUNS/2014bc3fd6fe4d729fd7418a20312f5e\n",
      "Checking for cached result\n",
      "Found cached result = meltheas/54/91687e7d8e031e628df134e63d59ebef9cd5e07d\n",
      "First Done\n",
      "done with {} 45\n",
      "runname = 6da891dc9e3a4b7fb16464cae8897c53\n",
      "outdir  = RUNS/6da891dc9e3a4b7fb16464cae8897c53\n",
      "Checking for cached result\n",
      "Found cached result = meltheas/54/f67505d353f39b90664cbbd94c9c87105193c53b\n",
      "First Done\n",
      "While Loop\n",
      "runname = 469efdd8edaa4cef9b5c51da98633d60\n",
      "outdir  = RUNS/469efdd8edaa4cef9b5c51da98633d60\n",
      "Checking for cached result\n",
      "Found cached result = meltheas/54/e4f6a97c9387d831c6b64cdaa323fe0ad9149cb0\n",
      "done with {} 46\n",
      "runname = c5b99508157941fdb7edefa745f6a46a\n",
      "outdir  = RUNS/c5b99508157941fdb7edefa745f6a46a\n",
      "Checking for cached result\n",
      "Found cached result = meltheas/54/6321c3909b06bf1a5b3b7a7541c63afae19902ad\n",
      "First Done\n",
      "While Loop\n",
      "runname = f74d8e5761804e6283277236dbda0d2f\n",
      "outdir  = RUNS/f74d8e5761804e6283277236dbda0d2f\n",
      "Checking for cached result\n",
      "Found cached result = meltheas/54/fc4b5f220a330bb0f443c8212ab139c372533f1e\n",
      "done with {} 47\n",
      "runname = e4ba38d8ae264e74a2b7e028c6c2bf80\n",
      "outdir  = RUNS/e4ba38d8ae264e74a2b7e028c6c2bf80\n",
      "Checking for cached result\n",
      "Found cached result = meltheas/54/2543db329d175a5ada4edbaa1ec8e7fccf2f831a\n",
      "First Done\n",
      "done with {} 48\n",
      "runname = f082dbb90f8c4f888ca773449a7eec12\n",
      "outdir  = RUNS/f082dbb90f8c4f888ca773449a7eec12\n",
      "Checking for cached result\n",
      "Found cached result = meltheas/54/23ffecdbbe100254cff97322e0a26aeea81db480\n",
      "First Done\n",
      "done with {} 49\n",
      "runname = 4eef4203fc5f47b6b5579da7da702385\n",
      "outdir  = RUNS/4eef4203fc5f47b6b5579da7da702385\n",
      "Checking for cached result\n",
      "Found cached result = meltheas/54/88a483a96e74324d20c486636ab431e5ea30a98b\n",
      "First Done\n",
      "done with {} 50\n",
      "runname = 9a51351dfa444921992760ba1745c6ba\n",
      "outdir  = RUNS/9a51351dfa444921992760ba1745c6ba\n",
      "Checking for cached result\n",
      "Found cached result = meltheas/54/36417ee6412498e7c04ebecf0633007e1aed0627\n",
      "First Done\n",
      "done with {} 51\n",
      "runname = 511f40ff64814167a892ef6500dc4c80\n",
      "outdir  = RUNS/511f40ff64814167a892ef6500dc4c80\n",
      "Checking for cached result\n",
      "Found cached result = meltheas/54/716dc130b4ee9d1232a5051af7324343835c7ae7\n",
      "First Done\n",
      "While Loop\n",
      "runname = 0d7b2e2c4e2b471aa9baf3b8bd69cf44\n",
      "outdir  = RUNS/0d7b2e2c4e2b471aa9baf3b8bd69cf44\n",
      "Checking for cached result\n",
      "Found cached result = meltheas/54/423650a24eabaaab560d77c6861f9cdb5c2a58f9\n",
      "done with {} 52\n",
      "runname = a0c8b60ee922464db85fb6e419ce9a1a\n",
      "outdir  = RUNS/a0c8b60ee922464db85fb6e419ce9a1a\n",
      "Checking for cached result\n",
      "Executing simTool: meltheas/54/ee185de1fc1ca77170213c8dbe74985f25691aee\n"
     ]
    },
    {
     "name": "stderr",
     "output_type": "stream",
     "text": [
      "Input Notebook:  /apps/meltheas/r54/simtool/meltheas.ipynb\n",
      "Output Notebook: meltheas.ipynb\n",
      "Executing notebook with kernel: python3\n",
      "Executing:  50%|█████     | 13/26 [00:19<00:04,  3.11cell/s]"
     ]
    },
    {
     "name": "stdout",
     "output_type": "stream",
     "text": [
      "Fetching error result\n",
      "Retrieval of failed execution result failed\n"
     ]
    },
    {
     "name": "stderr",
     "output_type": "stream",
     "text": [
      "Traceback (most recent call last):\n",
      "  File \"/apps/share64/debian10/anaconda/anaconda-7/lib/python3.8/site-packages/simtool/run.py\", line 313, in doTrustedUserRun\n",
      "    exitCode,commandStdout,commandStderr = self.executeCommand(commandArgs,streamOutput=True,reportErrorExit=False)\n",
      "  File \"/apps/share64/debian10/anaconda/anaconda-7/lib/python3.8/site-packages/simtool/run.py\", line 223, in executeCommand\n",
      "    ready = select.select(toCheck,[],[])\n",
      "KeyboardInterrupt\n",
      "\n",
      "/bin/cp: cannot stat '/tmp/SimToolDeliver/fe1085e0-7d55-4497-9552-080ea279fb07/.': No such file or directory\n"
     ]
    },
    {
     "ename": "FileNotFoundError",
     "evalue": "[Errno 2] No such file or directory: 'RUNS/a0c8b60ee922464db85fb6e419ce9a1a/meltheas.ipynb'",
     "output_type": "error",
     "traceback": [
      "\u001b[0;31m---------------------------------------------------------------------------\u001b[0m",
      "\u001b[0;31mJSONDecodeError\u001b[0m                           Traceback (most recent call last)",
      "\u001b[0;32m/apps/share64/debian10/anaconda/anaconda-7/lib/python3.8/site-packages/papermill/iorw.py\u001b[0m in \u001b[0;36mread\u001b[0;34m(self, path)\u001b[0m\n\u001b[1;32m    211\u001b[0m                 \u001b[0;31m# string\u001b[0m\u001b[0;34m\u001b[0m\u001b[0;34m\u001b[0m\u001b[0;34m\u001b[0m\u001b[0m\n\u001b[0;32m--> 212\u001b[0;31m                 \u001b[0mjson\u001b[0m\u001b[0;34m.\u001b[0m\u001b[0mloads\u001b[0m\u001b[0;34m(\u001b[0m\u001b[0mpath\u001b[0m\u001b[0;34m)\u001b[0m\u001b[0;34m\u001b[0m\u001b[0;34m\u001b[0m\u001b[0m\n\u001b[0m\u001b[1;32m    213\u001b[0m                 \u001b[0;32mreturn\u001b[0m \u001b[0mpath\u001b[0m\u001b[0;34m\u001b[0m\u001b[0;34m\u001b[0m\u001b[0m\n",
      "\u001b[0;32m/apps/share64/debian10/anaconda/anaconda-7/lib/python3.8/json/__init__.py\u001b[0m in \u001b[0;36mloads\u001b[0;34m(s, cls, object_hook, parse_float, parse_int, parse_constant, object_pairs_hook, **kw)\u001b[0m\n\u001b[1;32m    356\u001b[0m             parse_constant is None and object_pairs_hook is None and not kw):\n\u001b[0;32m--> 357\u001b[0;31m         \u001b[0;32mreturn\u001b[0m \u001b[0m_default_decoder\u001b[0m\u001b[0;34m.\u001b[0m\u001b[0mdecode\u001b[0m\u001b[0;34m(\u001b[0m\u001b[0ms\u001b[0m\u001b[0;34m)\u001b[0m\u001b[0;34m\u001b[0m\u001b[0;34m\u001b[0m\u001b[0m\n\u001b[0m\u001b[1;32m    358\u001b[0m     \u001b[0;32mif\u001b[0m \u001b[0mcls\u001b[0m \u001b[0;32mis\u001b[0m \u001b[0;32mNone\u001b[0m\u001b[0;34m:\u001b[0m\u001b[0;34m\u001b[0m\u001b[0;34m\u001b[0m\u001b[0m\n",
      "\u001b[0;32m/apps/share64/debian10/anaconda/anaconda-7/lib/python3.8/json/decoder.py\u001b[0m in \u001b[0;36mdecode\u001b[0;34m(self, s, _w)\u001b[0m\n\u001b[1;32m    336\u001b[0m         \"\"\"\n\u001b[0;32m--> 337\u001b[0;31m         \u001b[0mobj\u001b[0m\u001b[0;34m,\u001b[0m \u001b[0mend\u001b[0m \u001b[0;34m=\u001b[0m \u001b[0mself\u001b[0m\u001b[0;34m.\u001b[0m\u001b[0mraw_decode\u001b[0m\u001b[0;34m(\u001b[0m\u001b[0ms\u001b[0m\u001b[0;34m,\u001b[0m \u001b[0midx\u001b[0m\u001b[0;34m=\u001b[0m\u001b[0m_w\u001b[0m\u001b[0;34m(\u001b[0m\u001b[0ms\u001b[0m\u001b[0;34m,\u001b[0m \u001b[0;36m0\u001b[0m\u001b[0;34m)\u001b[0m\u001b[0;34m.\u001b[0m\u001b[0mend\u001b[0m\u001b[0;34m(\u001b[0m\u001b[0;34m)\u001b[0m\u001b[0;34m)\u001b[0m\u001b[0;34m\u001b[0m\u001b[0;34m\u001b[0m\u001b[0m\n\u001b[0m\u001b[1;32m    338\u001b[0m         \u001b[0mend\u001b[0m \u001b[0;34m=\u001b[0m \u001b[0m_w\u001b[0m\u001b[0;34m(\u001b[0m\u001b[0ms\u001b[0m\u001b[0;34m,\u001b[0m \u001b[0mend\u001b[0m\u001b[0;34m)\u001b[0m\u001b[0;34m.\u001b[0m\u001b[0mend\u001b[0m\u001b[0;34m(\u001b[0m\u001b[0;34m)\u001b[0m\u001b[0;34m\u001b[0m\u001b[0;34m\u001b[0m\u001b[0m\n",
      "\u001b[0;32m/apps/share64/debian10/anaconda/anaconda-7/lib/python3.8/json/decoder.py\u001b[0m in \u001b[0;36mraw_decode\u001b[0;34m(self, s, idx)\u001b[0m\n\u001b[1;32m    354\u001b[0m         \u001b[0;32mexcept\u001b[0m \u001b[0mStopIteration\u001b[0m \u001b[0;32mas\u001b[0m \u001b[0merr\u001b[0m\u001b[0;34m:\u001b[0m\u001b[0;34m\u001b[0m\u001b[0;34m\u001b[0m\u001b[0m\n\u001b[0;32m--> 355\u001b[0;31m             \u001b[0;32mraise\u001b[0m \u001b[0mJSONDecodeError\u001b[0m\u001b[0;34m(\u001b[0m\u001b[0;34m\"Expecting value\"\u001b[0m\u001b[0;34m,\u001b[0m \u001b[0ms\u001b[0m\u001b[0;34m,\u001b[0m \u001b[0merr\u001b[0m\u001b[0;34m.\u001b[0m\u001b[0mvalue\u001b[0m\u001b[0;34m)\u001b[0m \u001b[0;32mfrom\u001b[0m \u001b[0;32mNone\u001b[0m\u001b[0;34m\u001b[0m\u001b[0;34m\u001b[0m\u001b[0m\n\u001b[0m\u001b[1;32m    356\u001b[0m         \u001b[0;32mreturn\u001b[0m \u001b[0mobj\u001b[0m\u001b[0;34m,\u001b[0m \u001b[0mend\u001b[0m\u001b[0;34m\u001b[0m\u001b[0;34m\u001b[0m\u001b[0m\n",
      "\u001b[0;31mJSONDecodeError\u001b[0m: Expecting value: line 1 column 1 (char 0)",
      "\nDuring handling of the above exception, another exception occurred:\n",
      "\u001b[0;31mFileNotFoundError\u001b[0m                         Traceback (most recent call last)",
      "\u001b[0;32m<ipython-input-47-1f6eace76b27>\u001b[0m in \u001b[0;36m<module>\u001b[0;34m\u001b[0m\n\u001b[1;32m     19\u001b[0m     \u001b[0minputs\u001b[0m\u001b[0;34m.\u001b[0m\u001b[0mTsolid\u001b[0m\u001b[0;34m.\u001b[0m\u001b[0mvalue\u001b[0m \u001b[0;34m=\u001b[0m \u001b[0;34m(\u001b[0m\u001b[0mtsol_slope\u001b[0m \u001b[0;34m*\u001b[0m \u001b[0mprediction\u001b[0m\u001b[0;34m)\u001b[0m \u001b[0;34m+\u001b[0m \u001b[0mtsol_intercept\u001b[0m\u001b[0;34m\u001b[0m\u001b[0;34m\u001b[0m\u001b[0m\n\u001b[1;32m     20\u001b[0m     \u001b[0minputs\u001b[0m\u001b[0;34m.\u001b[0m\u001b[0mTliquid\u001b[0m\u001b[0;34m.\u001b[0m\u001b[0mvalue\u001b[0m \u001b[0;34m=\u001b[0m \u001b[0;34m(\u001b[0m\u001b[0mtliq_slope\u001b[0m \u001b[0;34m*\u001b[0m \u001b[0mprediction\u001b[0m\u001b[0;34m)\u001b[0m \u001b[0;34m+\u001b[0m \u001b[0mtliq_intercept\u001b[0m\u001b[0;34m\u001b[0m\u001b[0;34m\u001b[0m\u001b[0m\n\u001b[0;32m---> 21\u001b[0;31m     \u001b[0mr\u001b[0m \u001b[0;34m=\u001b[0m \u001b[0mRun\u001b[0m\u001b[0;34m(\u001b[0m\u001b[0mMeltHEA\u001b[0m\u001b[0;34m,\u001b[0m \u001b[0minputs\u001b[0m\u001b[0;34m)\u001b[0m \u001b[0;31m# r is an object -> make list of ex. s.append(r)\u001b[0m\u001b[0;34m\u001b[0m\u001b[0;34m\u001b[0m\u001b[0m\n\u001b[0m\u001b[1;32m     22\u001b[0m \u001b[0;34m\u001b[0m\u001b[0m\n\u001b[1;32m     23\u001b[0m     \u001b[0mdataframe\u001b[0m \u001b[0;34m=\u001b[0m \u001b[0mr\u001b[0m\u001b[0;34m.\u001b[0m\u001b[0mgetResultSummary\u001b[0m\u001b[0;34m(\u001b[0m\u001b[0;34m)\u001b[0m\u001b[0;34m\u001b[0m\u001b[0;34m\u001b[0m\u001b[0m\n",
      "\u001b[0;32m/apps/share64/debian10/anaconda/anaconda-7/lib/python3.8/site-packages/simtool/run.py\u001b[0m in \u001b[0;36m__new__\u001b[0;34m(cls, simToolLocation, inputs, runName, remoteAttributes, cache, venue)\u001b[0m\n\u001b[1;32m    677\u001b[0m          \u001b[0mnewclass\u001b[0m \u001b[0;34m=\u001b[0m \u001b[0mSubmitRemoteRun\u001b[0m\u001b[0;34m(\u001b[0m\u001b[0msimToolLocation\u001b[0m\u001b[0;34m,\u001b[0m\u001b[0minputs\u001b[0m\u001b[0;34m,\u001b[0m\u001b[0mrunName\u001b[0m\u001b[0;34m,\u001b[0m\u001b[0mremoteRunAttributes\u001b[0m\u001b[0;34m,\u001b[0m\u001b[0mcache\u001b[0m\u001b[0;34m)\u001b[0m\u001b[0;34m\u001b[0m\u001b[0;34m\u001b[0m\u001b[0m\n\u001b[1;32m    678\u001b[0m       \u001b[0;32melif\u001b[0m \u001b[0mvenue\u001b[0m \u001b[0;34m==\u001b[0m \u001b[0;34m'trustedLocal'\u001b[0m\u001b[0;34m:\u001b[0m\u001b[0;34m\u001b[0m\u001b[0;34m\u001b[0m\u001b[0m\n\u001b[0;32m--> 679\u001b[0;31m          \u001b[0mnewclass\u001b[0m \u001b[0;34m=\u001b[0m \u001b[0mTrustedUserLocalRun\u001b[0m\u001b[0;34m(\u001b[0m\u001b[0msimToolLocation\u001b[0m\u001b[0;34m,\u001b[0m\u001b[0minputs\u001b[0m\u001b[0;34m,\u001b[0m\u001b[0mrunName\u001b[0m\u001b[0;34m,\u001b[0m\u001b[0mcache\u001b[0m\u001b[0;34m)\u001b[0m\u001b[0;34m\u001b[0m\u001b[0;34m\u001b[0m\u001b[0m\n\u001b[0m\u001b[1;32m    680\u001b[0m       \u001b[0;32melif\u001b[0m \u001b[0mvenue\u001b[0m \u001b[0;34m==\u001b[0m \u001b[0;34m'trustedRemote'\u001b[0m\u001b[0;34m:\u001b[0m\u001b[0;34m\u001b[0m\u001b[0;34m\u001b[0m\u001b[0m\n\u001b[1;32m    681\u001b[0m          \u001b[0mnewclass\u001b[0m \u001b[0;34m=\u001b[0m \u001b[0mTrustedUserRemoteRun\u001b[0m\u001b[0;34m(\u001b[0m\u001b[0msimToolLocation\u001b[0m\u001b[0;34m,\u001b[0m\u001b[0minputs\u001b[0m\u001b[0;34m,\u001b[0m\u001b[0mrunName\u001b[0m\u001b[0;34m,\u001b[0m\u001b[0mremoteRunAttributes\u001b[0m\u001b[0;34m,\u001b[0m\u001b[0mcache\u001b[0m\u001b[0;34m)\u001b[0m\u001b[0;34m\u001b[0m\u001b[0;34m\u001b[0m\u001b[0m\n",
      "\u001b[0;32m/apps/share64/debian10/anaconda/anaconda-7/lib/python3.8/site-packages/simtool/run.py\u001b[0m in \u001b[0;36m__init__\u001b[0;34m(self, simToolLocation, inputs, runName, cache)\u001b[0m\n\u001b[1;32m    557\u001b[0m \u001b[0;34m\u001b[0m\u001b[0m\n\u001b[1;32m    558\u001b[0m          \u001b[0mprerunFiles\u001b[0m \u001b[0;34m=\u001b[0m \u001b[0;32mNone\u001b[0m\u001b[0;34m\u001b[0m\u001b[0;34m\u001b[0m\u001b[0m\n\u001b[0;32m--> 559\u001b[0;31m          \u001b[0mself\u001b[0m\u001b[0;34m.\u001b[0m\u001b[0mprocessOutputs\u001b[0m\u001b[0;34m(\u001b[0m\u001b[0mcache\u001b[0m\u001b[0;34m,\u001b[0m\u001b[0mprerunFiles\u001b[0m\u001b[0;34m,\u001b[0m\u001b[0mtrustedExecution\u001b[0m\u001b[0;34m=\u001b[0m\u001b[0;32mTrue\u001b[0m\u001b[0;34m)\u001b[0m\u001b[0;34m\u001b[0m\u001b[0;34m\u001b[0m\u001b[0m\n\u001b[0m\u001b[1;32m    560\u001b[0m       \u001b[0;32melse\u001b[0m\u001b[0;34m:\u001b[0m\u001b[0;34m\u001b[0m\u001b[0;34m\u001b[0m\u001b[0m\n\u001b[1;32m    561\u001b[0m          \u001b[0mprint\u001b[0m\u001b[0;34m(\u001b[0m\u001b[0;34m\"The simtool %s/%s is not published\"\u001b[0m \u001b[0;34m%\u001b[0m \u001b[0;34m(\u001b[0m\u001b[0msimToolLocation\u001b[0m\u001b[0;34m[\u001b[0m\u001b[0;34m'simToolName'\u001b[0m\u001b[0;34m]\u001b[0m\u001b[0;34m,\u001b[0m\u001b[0msimToolLocation\u001b[0m\u001b[0;34m[\u001b[0m\u001b[0;34m'simToolRevision'\u001b[0m\u001b[0;34m]\u001b[0m\u001b[0;34m)\u001b[0m\u001b[0;34m)\u001b[0m\u001b[0;34m\u001b[0m\u001b[0;34m\u001b[0m\u001b[0m\n",
      "\u001b[0;32m/apps/share64/debian10/anaconda/anaconda-7/lib/python3.8/site-packages/simtool/run.py\u001b[0m in \u001b[0;36mprocessOutputs\u001b[0;34m(self, cache, prerunFiles, trustedExecution)\u001b[0m\n\u001b[1;32m    355\u001b[0m    def processOutputs(self,cache,prerunFiles,\n\u001b[1;32m    356\u001b[0m                            trustedExecution=False):\n\u001b[0;32m--> 357\u001b[0;31m       \u001b[0mself\u001b[0m\u001b[0;34m.\u001b[0m\u001b[0mdb\u001b[0m \u001b[0;34m=\u001b[0m \u001b[0mDB\u001b[0m\u001b[0;34m(\u001b[0m\u001b[0mself\u001b[0m\u001b[0;34m.\u001b[0m\u001b[0moutname\u001b[0m\u001b[0;34m,\u001b[0m\u001b[0mdir\u001b[0m\u001b[0;34m=\u001b[0m\u001b[0mself\u001b[0m\u001b[0;34m.\u001b[0m\u001b[0moutdir\u001b[0m\u001b[0;34m)\u001b[0m\u001b[0;34m\u001b[0m\u001b[0;34m\u001b[0m\u001b[0m\n\u001b[0m\u001b[1;32m    358\u001b[0m       \u001b[0;32mif\u001b[0m \u001b[0;32mnot\u001b[0m \u001b[0mtrustedExecution\u001b[0m\u001b[0;34m:\u001b[0m\u001b[0;34m\u001b[0m\u001b[0;34m\u001b[0m\u001b[0m\n\u001b[1;32m    359\u001b[0m          \u001b[0mself\u001b[0m\u001b[0;34m.\u001b[0m\u001b[0msavedOutputs\u001b[0m     \u001b[0;34m=\u001b[0m \u001b[0mself\u001b[0m\u001b[0;34m.\u001b[0m\u001b[0mdb\u001b[0m\u001b[0;34m.\u001b[0m\u001b[0mgetSavedOutputs\u001b[0m\u001b[0;34m(\u001b[0m\u001b[0;34m)\u001b[0m\u001b[0;34m\u001b[0m\u001b[0;34m\u001b[0m\u001b[0m\n",
      "\u001b[0;32m/apps/share64/debian10/anaconda/anaconda-7/lib/python3.8/site-packages/simtool/db.py\u001b[0m in \u001b[0;36m__init__\u001b[0;34m(self, outputs, dir)\u001b[0m\n\u001b[1;32m     18\u001b[0m     \u001b[0;32mdef\u001b[0m \u001b[0m__init__\u001b[0m\u001b[0;34m(\u001b[0m\u001b[0mself\u001b[0m\u001b[0;34m,\u001b[0m \u001b[0moutputs\u001b[0m\u001b[0;34m,\u001b[0m \u001b[0mdir\u001b[0m\u001b[0;34m=\u001b[0m\u001b[0;32mNone\u001b[0m\u001b[0;34m)\u001b[0m\u001b[0;34m:\u001b[0m\u001b[0;34m\u001b[0m\u001b[0;34m\u001b[0m\u001b[0m\n\u001b[1;32m     19\u001b[0m         \u001b[0;32mif\u001b[0m \u001b[0mtype\u001b[0m\u001b[0;34m(\u001b[0m\u001b[0moutputs\u001b[0m\u001b[0;34m)\u001b[0m \u001b[0;32mis\u001b[0m \u001b[0mstr\u001b[0m\u001b[0;34m:\u001b[0m\u001b[0;34m\u001b[0m\u001b[0;34m\u001b[0m\u001b[0m\n\u001b[0;32m---> 20\u001b[0;31m             \u001b[0mself\u001b[0m\u001b[0;34m.\u001b[0m\u001b[0mnb\u001b[0m \u001b[0;34m=\u001b[0m \u001b[0msb\u001b[0m\u001b[0;34m.\u001b[0m\u001b[0mread_notebook\u001b[0m\u001b[0;34m(\u001b[0m\u001b[0moutputs\u001b[0m\u001b[0;34m)\u001b[0m\u001b[0;34m\u001b[0m\u001b[0;34m\u001b[0m\u001b[0m\n\u001b[0m\u001b[1;32m     21\u001b[0m             \u001b[0mself\u001b[0m\u001b[0;34m.\u001b[0m\u001b[0mout\u001b[0m \u001b[0;34m=\u001b[0m \u001b[0mgetNotebookOutputs\u001b[0m\u001b[0;34m(\u001b[0m\u001b[0mself\u001b[0m\u001b[0;34m.\u001b[0m\u001b[0mnb\u001b[0m\u001b[0;34m)\u001b[0m\u001b[0;34m\u001b[0m\u001b[0;34m\u001b[0m\u001b[0m\n\u001b[1;32m     22\u001b[0m         \u001b[0;32melse\u001b[0m\u001b[0;34m:\u001b[0m\u001b[0;34m\u001b[0m\u001b[0;34m\u001b[0m\u001b[0m\n",
      "\u001b[0;32m/apps/share64/debian10/anaconda/anaconda-7/lib/python3.8/site-packages/scrapbook/api.py\u001b[0m in \u001b[0;36mread_notebook\u001b[0;34m(path)\u001b[0m\n\u001b[1;32m    128\u001b[0m \u001b[0;34m\u001b[0m\u001b[0m\n\u001b[1;32m    129\u001b[0m     \"\"\"\n\u001b[0;32m--> 130\u001b[0;31m     \u001b[0;32mreturn\u001b[0m \u001b[0mNotebook\u001b[0m\u001b[0;34m(\u001b[0m\u001b[0mpath\u001b[0m\u001b[0;34m)\u001b[0m\u001b[0;34m\u001b[0m\u001b[0;34m\u001b[0m\u001b[0m\n\u001b[0m\u001b[1;32m    131\u001b[0m \u001b[0;34m\u001b[0m\u001b[0m\n\u001b[1;32m    132\u001b[0m \u001b[0;34m\u001b[0m\u001b[0m\n",
      "\u001b[0;32m/apps/share64/debian10/anaconda/anaconda-7/lib/python3.8/site-packages/scrapbook/models.py\u001b[0m in \u001b[0;36m__init__\u001b[0;34m(self, node_or_path)\u001b[0m\n\u001b[1;32m     59\u001b[0m                 )\n\u001b[1;32m     60\u001b[0m             \u001b[0mself\u001b[0m\u001b[0;34m.\u001b[0m\u001b[0mpath\u001b[0m \u001b[0;34m=\u001b[0m \u001b[0mnode_or_path\u001b[0m\u001b[0;34m\u001b[0m\u001b[0;34m\u001b[0m\u001b[0m\n\u001b[0;32m---> 61\u001b[0;31m             \u001b[0mself\u001b[0m\u001b[0;34m.\u001b[0m\u001b[0mnode\u001b[0m \u001b[0;34m=\u001b[0m \u001b[0mnbformat\u001b[0m\u001b[0;34m.\u001b[0m\u001b[0mreads\u001b[0m\u001b[0;34m(\u001b[0m\u001b[0mpapermill_io\u001b[0m\u001b[0;34m.\u001b[0m\u001b[0mread\u001b[0m\u001b[0;34m(\u001b[0m\u001b[0mnode_or_path\u001b[0m\u001b[0;34m)\u001b[0m\u001b[0;34m,\u001b[0m \u001b[0mas_version\u001b[0m\u001b[0;34m=\u001b[0m\u001b[0;36m4\u001b[0m\u001b[0;34m)\u001b[0m\u001b[0;34m\u001b[0m\u001b[0;34m\u001b[0m\u001b[0m\n\u001b[0m\u001b[1;32m     62\u001b[0m         \u001b[0;32melse\u001b[0m\u001b[0;34m:\u001b[0m\u001b[0;34m\u001b[0m\u001b[0;34m\u001b[0m\u001b[0m\n\u001b[1;32m     63\u001b[0m             \u001b[0mself\u001b[0m\u001b[0;34m.\u001b[0m\u001b[0mpath\u001b[0m \u001b[0;34m=\u001b[0m \u001b[0;34m\"\"\u001b[0m\u001b[0;34m\u001b[0m\u001b[0;34m\u001b[0m\u001b[0m\n",
      "\u001b[0;32m/apps/share64/debian10/anaconda/anaconda-7/lib/python3.8/site-packages/papermill/iorw.py\u001b[0m in \u001b[0;36mread\u001b[0;34m(self, path, extensions)\u001b[0m\n\u001b[1;32m    114\u001b[0m             )\n\u001b[1;32m    115\u001b[0m         \u001b[0;31m# Handle https://github.com/nteract/papermill/issues/317\u001b[0m\u001b[0;34m\u001b[0m\u001b[0;34m\u001b[0m\u001b[0;34m\u001b[0m\u001b[0m\n\u001b[0;32m--> 116\u001b[0;31m         \u001b[0mnotebook_metadata\u001b[0m \u001b[0;34m=\u001b[0m \u001b[0mself\u001b[0m\u001b[0;34m.\u001b[0m\u001b[0mget_handler\u001b[0m\u001b[0;34m(\u001b[0m\u001b[0mpath\u001b[0m\u001b[0;34m)\u001b[0m\u001b[0;34m.\u001b[0m\u001b[0mread\u001b[0m\u001b[0;34m(\u001b[0m\u001b[0mpath\u001b[0m\u001b[0;34m)\u001b[0m\u001b[0;34m\u001b[0m\u001b[0;34m\u001b[0m\u001b[0m\n\u001b[0m\u001b[1;32m    117\u001b[0m         \u001b[0;32mif\u001b[0m \u001b[0misinstance\u001b[0m\u001b[0;34m(\u001b[0m\u001b[0mnotebook_metadata\u001b[0m\u001b[0;34m,\u001b[0m \u001b[0;34m(\u001b[0m\u001b[0mbytes\u001b[0m\u001b[0;34m,\u001b[0m \u001b[0mbytearray\u001b[0m\u001b[0;34m)\u001b[0m\u001b[0;34m)\u001b[0m\u001b[0;34m:\u001b[0m\u001b[0;34m\u001b[0m\u001b[0;34m\u001b[0m\u001b[0m\n\u001b[1;32m    118\u001b[0m             \u001b[0;32mreturn\u001b[0m \u001b[0mnotebook_metadata\u001b[0m\u001b[0;34m.\u001b[0m\u001b[0mdecode\u001b[0m\u001b[0;34m(\u001b[0m\u001b[0;34m'utf-8'\u001b[0m\u001b[0;34m)\u001b[0m\u001b[0;34m\u001b[0m\u001b[0;34m\u001b[0m\u001b[0m\n",
      "\u001b[0;32m/apps/share64/debian10/anaconda/anaconda-7/lib/python3.8/site-packages/papermill/iorw.py\u001b[0m in \u001b[0;36mread\u001b[0;34m(self, path)\u001b[0m\n\u001b[1;32m    214\u001b[0m             \u001b[0;32mexcept\u001b[0m \u001b[0mValueError\u001b[0m\u001b[0;34m:\u001b[0m\u001b[0;34m\u001b[0m\u001b[0;34m\u001b[0m\u001b[0m\n\u001b[1;32m    215\u001b[0m                 \u001b[0;31m# Propagate the IOError\u001b[0m\u001b[0;34m\u001b[0m\u001b[0;34m\u001b[0m\u001b[0;34m\u001b[0m\u001b[0m\n\u001b[0;32m--> 216\u001b[0;31m                 \u001b[0;32mraise\u001b[0m \u001b[0me\u001b[0m\u001b[0;34m\u001b[0m\u001b[0;34m\u001b[0m\u001b[0m\n\u001b[0m\u001b[1;32m    217\u001b[0m \u001b[0;34m\u001b[0m\u001b[0m\n\u001b[1;32m    218\u001b[0m     \u001b[0;32mdef\u001b[0m \u001b[0mlistdir\u001b[0m\u001b[0;34m(\u001b[0m\u001b[0mself\u001b[0m\u001b[0;34m,\u001b[0m \u001b[0mpath\u001b[0m\u001b[0;34m)\u001b[0m\u001b[0;34m:\u001b[0m\u001b[0;34m\u001b[0m\u001b[0;34m\u001b[0m\u001b[0m\n",
      "\u001b[0;32m/apps/share64/debian10/anaconda/anaconda-7/lib/python3.8/site-packages/papermill/iorw.py\u001b[0m in \u001b[0;36mread\u001b[0;34m(self, path)\u001b[0m\n\u001b[1;32m    204\u001b[0m         \u001b[0;32mtry\u001b[0m\u001b[0;34m:\u001b[0m\u001b[0;34m\u001b[0m\u001b[0;34m\u001b[0m\u001b[0m\n\u001b[1;32m    205\u001b[0m             \u001b[0;32mwith\u001b[0m \u001b[0mchdir\u001b[0m\u001b[0;34m(\u001b[0m\u001b[0mself\u001b[0m\u001b[0;34m.\u001b[0m\u001b[0m_cwd\u001b[0m\u001b[0;34m)\u001b[0m\u001b[0;34m:\u001b[0m\u001b[0;34m\u001b[0m\u001b[0;34m\u001b[0m\u001b[0m\n\u001b[0;32m--> 206\u001b[0;31m                 \u001b[0;32mwith\u001b[0m \u001b[0mio\u001b[0m\u001b[0;34m.\u001b[0m\u001b[0mopen\u001b[0m\u001b[0;34m(\u001b[0m\u001b[0mpath\u001b[0m\u001b[0;34m,\u001b[0m \u001b[0;34m'r'\u001b[0m\u001b[0;34m,\u001b[0m \u001b[0mencoding\u001b[0m\u001b[0;34m=\u001b[0m\u001b[0;34m\"utf-8\"\u001b[0m\u001b[0;34m)\u001b[0m \u001b[0;32mas\u001b[0m \u001b[0mf\u001b[0m\u001b[0;34m:\u001b[0m\u001b[0;34m\u001b[0m\u001b[0;34m\u001b[0m\u001b[0m\n\u001b[0m\u001b[1;32m    207\u001b[0m                     \u001b[0;32mreturn\u001b[0m \u001b[0mf\u001b[0m\u001b[0;34m.\u001b[0m\u001b[0mread\u001b[0m\u001b[0;34m(\u001b[0m\u001b[0;34m)\u001b[0m\u001b[0;34m\u001b[0m\u001b[0;34m\u001b[0m\u001b[0m\n\u001b[1;32m    208\u001b[0m         \u001b[0;32mexcept\u001b[0m \u001b[0mIOError\u001b[0m \u001b[0;32mas\u001b[0m \u001b[0me\u001b[0m\u001b[0;34m:\u001b[0m\u001b[0;34m\u001b[0m\u001b[0;34m\u001b[0m\u001b[0m\n",
      "\u001b[0;31mFileNotFoundError\u001b[0m: [Errno 2] No such file or directory: 'RUNS/a0c8b60ee922464db85fb6e419ce9a1a/meltheas.ipynb'"
     ]
    }
   ],
   "source": [
    "i = 0\n",
    "for index in data:   \n",
    "    inputs.time.value = 100 # -> number of picoseconds to run\n",
    "    inputs.composition1.value = index[0].item()\n",
    "    inputs.composition2.value = index[1].item()\n",
    "    inputs.composition3.value = index[2].item()\n",
    "    inputs.composition4.value = index[3].item()\n",
    "    inputs.composition5.value = index[4].item()\n",
    "    #no need to modify\n",
    "    inputs.box_length.value = 18\n",
    "    \n",
    "    \n",
    "    reshaped_data = index.reshape(1, -1)\n",
    "    \n",
    "    prediction = model.predict(reshaped_data).squeeze()\n",
    "    \n",
    "    inputs.Tsolid.value = (tsol_slope * prediction) + tsol_intercept\n",
    "    inputs.Tliquid.value = (tliq_slope * prediction) + tliq_intercept\n",
    "    r = Run(MeltHEA, inputs) # r is an object -> make list of ex. s.append(r)\n",
    "    \n",
    "    dataframe = r.getResultSummary()\n",
    "    k = dataframe[['name', 'data']]\n",
    "    k = k.transpose()\n",
    "    k.columns = k.iloc[0]\n",
    "    k = k.iloc[1:].reset_index(drop=True)\n",
    "    k = k.drop('final_snapshot', axis = 1)\n",
    "    k.to_csv('Alloy Data 5/alloy' + str(i) + '.csv', index=False, float_format='%.6f')\n",
    "    coexist = bool(r.read('Coexistence'))\n",
    "    conv = bool(r.read('Converged'))\n",
    "    comp = 2\n",
    "    print('First Done')\n",
    "    \n",
    "    while ((coexist and conv) is False):\n",
    "\n",
    "        print('While Loop')\n",
    "        \n",
    "        \n",
    "        inputs.time.value = 100 # -> number of picoseconds to run\n",
    "        inputs.composition1.value = index[0].item()\n",
    "        inputs.composition2.value = index[1].item()\n",
    "        inputs.composition3.value = index[2].item()\n",
    "        inputs.composition4.value = index[3].item()\n",
    "        inputs.composition5.value = index[4].item()\n",
    "        #no need to modify\n",
    "        inputs.box_length.value = 18\n",
    "\n",
    "       \n",
    "        if ((coexist) and (not conv)):\n",
    "            inputs.time.value = inputs.time.value + 50\n",
    "        else:\n",
    "            if (float(r.read('fraction_solid')) >= float(r.read('fraction_liquid'))):\n",
    "                prediction = prediction * 1.025\n",
    "            else:\n",
    "                prediction = prediction * 0.975\n",
    "    \n",
    "        inputs.Tsolid.value = (tsol_slope * prediction) + tsol_intercept\n",
    "        inputs.Tliquid.value = (tliq_slope * prediction) + tliq_intercept\n",
    "        r = Run(MeltHEA, inputs) # r is an object -> make list of ex. s.append(r)\n",
    "\n",
    "        dataframe = r.getResultSummary()\n",
    "        k = dataframe[['name', 'data']]\n",
    "        k = k.transpose()\n",
    "        k.columns = k.iloc[0]\n",
    "        k = k.iloc[1:].reset_index(drop=True)\n",
    "        k = k.drop('final_snapshot', axis = 1)\n",
    "        k.to_csv('Alloy Data 5/alloy' + str(i) + '_' + str(comp) + '.csv', index=False, float_format='%.6f')\n",
    "        comp += 1\n",
    "        coexist = bool(r.read('Coexistence'))\n",
    "        conv = bool(r.read('Converged'))\n",
    "\n",
    "    \n",
    "    print(\"done with {}\", i)\n",
    "    i = i + 1"
   ]
  },
  {
   "cell_type": "markdown",
   "id": "f0a71b93",
   "metadata": {},
   "source": [
    "# Random Forest Evalution"
   ]
  },
  {
   "cell_type": "markdown",
   "id": "afd6f515",
   "metadata": {},
   "source": [
    "Evaluating the Random Forest's reduction in average simulations"
   ]
  },
  {
   "cell_type": "code",
   "execution_count": 67,
   "id": "2154607f",
   "metadata": {
    "ExecuteTime": {
     "end_time": "2024-07-24T02:47:10.212966Z",
     "start_time": "2024-07-24T02:47:09.624044Z"
    }
   },
   "outputs": [],
   "source": [
    "#Reading a list of values processed before simulations ran\n",
    "df = pd.read_csv('cleaned_list.txt', sep=' ', header=None)\n",
    "df[8] = [x.replace(\"_\", \"/\") for x in df[8]]\n",
    "runs_file = final_df.copy()\n",
    "\n",
    "#Keep only data that's present in df (matches by sqUID)\n",
    "prior_to_2024_data = runs_file[runs_file['squid'].isin(df[8])]\n",
    "df = prior_to_2024_data.copy()"
   ]
  },
  {
   "cell_type": "code",
   "execution_count": 69,
   "id": "d6c80c98",
   "metadata": {
    "ExecuteTime": {
     "end_time": "2024-07-24T02:47:15.486937Z",
     "start_time": "2024-07-24T02:47:14.829269Z"
    }
   },
   "outputs": [],
   "source": [
    "#Processing number of simulations per composition for data: new sims ran\n",
    "cols = ['Cr', 'Co', 'Cu', 'Fe', 'Ni']\n",
    "\n",
    "filtered_df = pd.DataFrame()\n",
    "\n",
    "k = 0\n",
    "\n",
    "for index in range(54): \n",
    "    counter = 1\n",
    "    v = 2\n",
    "    file_path = 'Alloy Data 5/alloy' + str(index) + '.csv'\n",
    "    k = pd.read_csv(file_path)\n",
    "    k.rename(columns = {'true_comp1': 'Cr', 'true_comp2': 'Co', 'true_comp3': 'Cu', 'true_comp4': 'Fe', 'true_comp5': 'Ni'}, inplace = True)\n",
    "    \n",
    "    cr = round(k['Cr'].item(), 1)\n",
    "    co = round(k['Co'].item(), 1)\n",
    "    cu = round(k['Cu'].item(), 1)\n",
    "    fe = round(k['Fe'].item(), 1)\n",
    "    ni = round(k['Ni'].item(), 1)\n",
    "    \n",
    "    temp_df = df[(df['Cr'] == cr) & (df['Co'] == co) & (df['Cu'] == cu) & (df['Fe'] == fe) & (df['Ni'] == ni)]\n",
    "    \n",
    "    \n",
    "    filtered_df = pd.concat([filtered_df, temp_df], ignore_index=True)"
   ]
  },
  {
   "cell_type": "code",
   "execution_count": 70,
   "id": "6ee991eb",
   "metadata": {
    "ExecuteTime": {
     "end_time": "2024-07-24T02:47:15.861897Z",
     "start_time": "2024-07-24T02:47:15.859154Z"
    }
   },
   "outputs": [],
   "source": [
    "df = filtered_df"
   ]
  },
  {
   "cell_type": "code",
   "execution_count": 71,
   "id": "dd7f9181",
   "metadata": {
    "ExecuteTime": {
     "end_time": "2024-07-24T02:47:16.752714Z",
     "start_time": "2024-07-24T02:47:16.748140Z"
    }
   },
   "outputs": [],
   "source": [
    "#Grouping elemenets by composition\n",
    "cols = ['Cr', 'Co', 'Cu', 'Fe', 'Ni']\n",
    "groups = df.groupby(by = cols)\n",
    "list_of_averages = []\n",
    "unconverged_alloys = []"
   ]
  },
  {
   "cell_type": "code",
   "execution_count": 72,
   "id": "a5f15e75",
   "metadata": {
    "ExecuteTime": {
     "end_time": "2024-07-24T02:47:17.297359Z",
     "start_time": "2024-07-24T02:47:17.183722Z"
    }
   },
   "outputs": [],
   "source": [
    "#Constructing list of avg number of sims till convergence for each group/composition\n",
    "for i, g in groups:\n",
    "    if (len(g[(g['output.Coexistence'] == 1) & (g['output.Converged'] == 1)]) != 0):\n",
    "        average = len(g)/len(g[(g['output.Coexistence'] == 1) & (g['output.Converged'] == 1)])\n",
    "        list_of_averages.append(average)\n",
    "    else:\n",
    "        unconverged_alloys.append(i)"
   ]
  },
  {
   "cell_type": "code",
   "execution_count": 73,
   "id": "7df7cb0f",
   "metadata": {
    "ExecuteTime": {
     "end_time": "2024-07-24T02:47:17.668646Z",
     "start_time": "2024-07-24T02:47:17.659470Z"
    }
   },
   "outputs": [],
   "source": [
    "#Processing number of simulations per composition for data: new sims ran\n",
    "list_av = []\n",
    "for index in range(54): \n",
    "    counter = 1\n",
    "    v = 2\n",
    "    file_path = 'Alloy Data 5/alloy' + str(index) + '_' + str(v) + '.csv'\n",
    "    while (os.path.exists(file_path)):\n",
    "        counter += 1\n",
    "        v += 1\n",
    "        file_path = 'Alloy Data 5/alloy' + str(index) + '_' + str(v) + '.csv'\n",
    "    list_av.append(counter)"
   ]
  },
  {
   "cell_type": "code",
   "execution_count": 74,
   "id": "eeef2167",
   "metadata": {
    "ExecuteTime": {
     "end_time": "2024-07-24T02:47:18.318272Z",
     "start_time": "2024-07-24T02:47:18.035195Z"
    }
   },
   "outputs": [
    {
     "data": {
      "image/png": "[encoded data removed]",
      "text/plain": [
       "<Figure size 1080x648 with 1 Axes>"
      ]
     },
     "metadata": {
      "needs_background": "light"
     },
     "output_type": "display_data"
    }
   ],
   "source": [
    "values_list1 = list_of_averages  # Make sure this variable is correctly defined\n",
    "values_list2 = list_av  # Ensure this variable is correctly defined\n",
    "\n",
    "bins = [0, 1, 2, 3, 4, 5, 6, 7, 8, 9]\n",
    "\n",
    "binned_values1 = pd.cut(values_list1, bins=bins)\n",
    "bin_counts1 = binned_values1.value_counts().sort_index()\n",
    "\n",
    "binned_values2 = pd.cut(values_list2, bins=bins)\n",
    "bin_counts2 = binned_values2.value_counts().sort_index()\n",
    "\n",
    "total_counts1 = bin_counts1.sum()\n",
    "total_counts2 = bin_counts2.sum()\n",
    "\n",
    "# Change to count-based values\n",
    "counts1 = bin_counts1.values\n",
    "counts2 = bin_counts2.values\n",
    "\n",
    "bin_labels = bin_counts1.index.astype(str)\n",
    "\n",
    "plt.figure(figsize=(15, 9))\n",
    "plt.bar(bin_labels, counts1, alpha=0.5, label='Domain Knowledge Initial Guesses', color = '#DC143C')\n",
    "plt.bar(bin_labels, counts2, alpha=0.5, label='Data-Driven Initial Guesses', color='#004953')\n",
    "\n",
    "plt.tick_params(axis='both', labelsize=18)\n",
    "\n",
    "# Reintroduce the mean lines\n",
    "mean_value1 = sum(values_list1) / len(values_list1)\n",
    "mean_value2 = sum(values_list2) / len(values_list2)\n",
    "\n",
    "# Draw vertical lines at the mean values\n",
    "plt.axvline(x=mean_value1, color='#DC143C', linestyle='--', label='Mean: Farache et. al. Sims {:.2f}'.format(mean_value1))\n",
    "plt.axvline(x=mean_value2, color='#004953', linestyle='--', label='Mean: RF-Sims {:.2f}'.format(mean_value2))\n",
    "\n",
    "plt.xlabel('Average Number of Simulations per Alloy', fontsize = 20)\n",
    "plt.ylabel('Number of Alloys', fontsize = 20)\n",
    "plt.xticks(rotation=45)\n",
    "plt.legend(fontsize = 16)\n",
    "\n",
    "plt.show()"
   ]
  },
  {
   "cell_type": "code",
   "execution_count": null,
   "id": "d3b67280",
   "metadata": {},
   "outputs": [],
   "source": []
  }
 ],
 "metadata": {
  "kernelspec": {
   "display_name": "Python 3.8",
   "language": "python",
   "name": "python3"
  },
  "language_info": {
   "codemirror_mode": {
    "name": "ipython",
    "version": 3
   },
   "file_extension": ".py",
   "mimetype": "text/x-python",
   "name": "python",
   "nbconvert_exporter": "python",
   "pygments_lexer": "ipython3",
   "version": "3.8.10"
  },
  "toc": {
   "base_numbering": 1,
   "nav_menu": {},
   "number_sections": true,
   "sideBar": true,
   "skip_h1_title": false,
   "title_cell": "Table of Contents",
   "title_sidebar": "Contents",
   "toc_cell": false,
   "toc_position": {},
   "toc_section_display": true,
   "toc_window_display": false
  },
  "varInspector": {
   "cols": {
    "lenName": 16,
    "lenType": 16,
    "lenVar": 40
   },
   "kernels_config": {
    "python": {
     "delete_cmd_postfix": "",
     "delete_cmd_prefix": "del ",
     "library": "var_list.py",
     "varRefreshCmd": "print(var_dic_list())"
    },
    "r": {
     "delete_cmd_postfix": ") ",
     "delete_cmd_prefix": "rm(",
     "library": "var_list.r",
     "varRefreshCmd": "cat(var_dic_list()) "
    }
   },
   "types_to_exclude": [
    "module",
    "function",
    "builtin_function_or_method",
    "instance",
    "_Feature"
   ],
   "window_display": false
  }
 },
 "nbformat": 4,
 "nbformat_minor": 5
}
